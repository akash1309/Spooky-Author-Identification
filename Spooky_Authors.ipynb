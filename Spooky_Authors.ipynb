{
  "nbformat": 4,
  "nbformat_minor": 0,
  "metadata": {
    "colab": {
      "name": "Spooky_Authors.ipynb",
      "provenance": [],
      "mount_file_id": "1cyL-Rk41PxCqs5KIBbEUNwiPHQnwdGis",
      "authorship_tag": "ABX9TyP93D3U7tSvTelrujmYYWNm"
    },
    "kernelspec": {
      "name": "python3",
      "display_name": "Python 3"
    },
    "accelerator": "GPU"
  },
  "cells": [
    {
      "cell_type": "markdown",
      "metadata": {
        "id": "g-LNrV0bouQX",
        "colab_type": "text"
      },
      "source": [
        "# Spooky Author Identification"
      ]
    },
    {
      "cell_type": "markdown",
      "metadata": {
        "id": "n6z37AN9o5I3",
        "colab_type": "text"
      },
      "source": [
        "## 1) Importing the libraries"
      ]
    },
    {
      "cell_type": "code",
      "metadata": {
        "id": "XQg4ciMyoJv0",
        "colab_type": "code",
        "colab": {}
      },
      "source": [
        "import numpy as np\n",
        "import pandas as pd\n",
        "import matplotlib.pyplot as plt\n",
        "import torch\n",
        "import torch.nn as nn\n",
        "import nltk\n",
        "import spacy\n",
        "import re"
      ],
      "execution_count": 0,
      "outputs": []
    },
    {
      "cell_type": "markdown",
      "metadata": {
        "id": "H9JwPWEepQe8",
        "colab_type": "text"
      },
      "source": [
        "## 2) Reading Input files"
      ]
    },
    {
      "cell_type": "code",
      "metadata": {
        "id": "rOQTcwydpKub",
        "colab_type": "code",
        "colab": {}
      },
      "source": [
        "df_train = pd.read_csv('drive/My Drive/Pytorch_DataSet/Spooky Authors/train.csv')\n",
        "df_test = pd.read_csv('drive/My Drive/Pytorch_DataSet/Spooky Authors/test.csv')"
      ],
      "execution_count": 0,
      "outputs": []
    },
    {
      "cell_type": "code",
      "metadata": {
        "id": "Hl5eHcSnp0dw",
        "colab_type": "code",
        "outputId": "02657e98-e3a6-4fce-d0c8-2d281f8bcd86",
        "colab": {
          "base_uri": "https://localhost:8080/",
          "height": 204
        }
      },
      "source": [
        "df_train.head()"
      ],
      "execution_count": 3,
      "outputs": [
        {
          "output_type": "execute_result",
          "data": {
            "text/html": [
              "<div>\n",
              "<style scoped>\n",
              "    .dataframe tbody tr th:only-of-type {\n",
              "        vertical-align: middle;\n",
              "    }\n",
              "\n",
              "    .dataframe tbody tr th {\n",
              "        vertical-align: top;\n",
              "    }\n",
              "\n",
              "    .dataframe thead th {\n",
              "        text-align: right;\n",
              "    }\n",
              "</style>\n",
              "<table border=\"1\" class=\"dataframe\">\n",
              "  <thead>\n",
              "    <tr style=\"text-align: right;\">\n",
              "      <th></th>\n",
              "      <th>id</th>\n",
              "      <th>text</th>\n",
              "      <th>author</th>\n",
              "    </tr>\n",
              "  </thead>\n",
              "  <tbody>\n",
              "    <tr>\n",
              "      <th>0</th>\n",
              "      <td>id26305</td>\n",
              "      <td>This process, however, afforded me no means of...</td>\n",
              "      <td>EAP</td>\n",
              "    </tr>\n",
              "    <tr>\n",
              "      <th>1</th>\n",
              "      <td>id17569</td>\n",
              "      <td>It never once occurred to me that the fumbling...</td>\n",
              "      <td>HPL</td>\n",
              "    </tr>\n",
              "    <tr>\n",
              "      <th>2</th>\n",
              "      <td>id11008</td>\n",
              "      <td>In his left hand was a gold snuff box, from wh...</td>\n",
              "      <td>EAP</td>\n",
              "    </tr>\n",
              "    <tr>\n",
              "      <th>3</th>\n",
              "      <td>id27763</td>\n",
              "      <td>How lovely is spring As we looked from Windsor...</td>\n",
              "      <td>MWS</td>\n",
              "    </tr>\n",
              "    <tr>\n",
              "      <th>4</th>\n",
              "      <td>id12958</td>\n",
              "      <td>Finding nothing else, not even gold, the Super...</td>\n",
              "      <td>HPL</td>\n",
              "    </tr>\n",
              "  </tbody>\n",
              "</table>\n",
              "</div>"
            ],
            "text/plain": [
              "        id                                               text author\n",
              "0  id26305  This process, however, afforded me no means of...    EAP\n",
              "1  id17569  It never once occurred to me that the fumbling...    HPL\n",
              "2  id11008  In his left hand was a gold snuff box, from wh...    EAP\n",
              "3  id27763  How lovely is spring As we looked from Windsor...    MWS\n",
              "4  id12958  Finding nothing else, not even gold, the Super...    HPL"
            ]
          },
          "metadata": {
            "tags": []
          },
          "execution_count": 3
        }
      ]
    },
    {
      "cell_type": "code",
      "metadata": {
        "id": "yYVEqIW5p3c5",
        "colab_type": "code",
        "outputId": "93808057-4ef2-438a-84bf-f05d573f59f2",
        "colab": {
          "base_uri": "https://localhost:8080/",
          "height": 187
        }
      },
      "source": [
        "df_train.info()"
      ],
      "execution_count": 4,
      "outputs": [
        {
          "output_type": "stream",
          "text": [
            "<class 'pandas.core.frame.DataFrame'>\n",
            "RangeIndex: 19579 entries, 0 to 19578\n",
            "Data columns (total 3 columns):\n",
            " #   Column  Non-Null Count  Dtype \n",
            "---  ------  --------------  ----- \n",
            " 0   id      19579 non-null  object\n",
            " 1   text    19579 non-null  object\n",
            " 2   author  19579 non-null  object\n",
            "dtypes: object(3)\n",
            "memory usage: 459.0+ KB\n"
          ],
          "name": "stdout"
        }
      ]
    },
    {
      "cell_type": "code",
      "metadata": {
        "id": "MSAryig6p99Z",
        "colab_type": "code",
        "outputId": "8d582347-9315-4954-fd25-c335ca7d51cf",
        "colab": {
          "base_uri": "https://localhost:8080/",
          "height": 204
        }
      },
      "source": [
        "df_test.head()"
      ],
      "execution_count": 5,
      "outputs": [
        {
          "output_type": "execute_result",
          "data": {
            "text/html": [
              "<div>\n",
              "<style scoped>\n",
              "    .dataframe tbody tr th:only-of-type {\n",
              "        vertical-align: middle;\n",
              "    }\n",
              "\n",
              "    .dataframe tbody tr th {\n",
              "        vertical-align: top;\n",
              "    }\n",
              "\n",
              "    .dataframe thead th {\n",
              "        text-align: right;\n",
              "    }\n",
              "</style>\n",
              "<table border=\"1\" class=\"dataframe\">\n",
              "  <thead>\n",
              "    <tr style=\"text-align: right;\">\n",
              "      <th></th>\n",
              "      <th>id</th>\n",
              "      <th>text</th>\n",
              "    </tr>\n",
              "  </thead>\n",
              "  <tbody>\n",
              "    <tr>\n",
              "      <th>0</th>\n",
              "      <td>id02310</td>\n",
              "      <td>Still, as I urged our leaving Ireland with suc...</td>\n",
              "    </tr>\n",
              "    <tr>\n",
              "      <th>1</th>\n",
              "      <td>id24541</td>\n",
              "      <td>If a fire wanted fanning, it could readily be ...</td>\n",
              "    </tr>\n",
              "    <tr>\n",
              "      <th>2</th>\n",
              "      <td>id00134</td>\n",
              "      <td>And when they had broken down the frail door t...</td>\n",
              "    </tr>\n",
              "    <tr>\n",
              "      <th>3</th>\n",
              "      <td>id27757</td>\n",
              "      <td>While I was thinking how I should possibly man...</td>\n",
              "    </tr>\n",
              "    <tr>\n",
              "      <th>4</th>\n",
              "      <td>id04081</td>\n",
              "      <td>I am not sure to what limit his knowledge may ...</td>\n",
              "    </tr>\n",
              "  </tbody>\n",
              "</table>\n",
              "</div>"
            ],
            "text/plain": [
              "        id                                               text\n",
              "0  id02310  Still, as I urged our leaving Ireland with suc...\n",
              "1  id24541  If a fire wanted fanning, it could readily be ...\n",
              "2  id00134  And when they had broken down the frail door t...\n",
              "3  id27757  While I was thinking how I should possibly man...\n",
              "4  id04081  I am not sure to what limit his knowledge may ..."
            ]
          },
          "metadata": {
            "tags": []
          },
          "execution_count": 5
        }
      ]
    },
    {
      "cell_type": "code",
      "metadata": {
        "id": "GDjSDkdnqSiJ",
        "colab_type": "code",
        "outputId": "7df2db84-096b-4ac3-b84f-7f9d04025b88",
        "colab": {
          "base_uri": "https://localhost:8080/",
          "height": 170
        }
      },
      "source": [
        "df_test.info()"
      ],
      "execution_count": 6,
      "outputs": [
        {
          "output_type": "stream",
          "text": [
            "<class 'pandas.core.frame.DataFrame'>\n",
            "RangeIndex: 8392 entries, 0 to 8391\n",
            "Data columns (total 2 columns):\n",
            " #   Column  Non-Null Count  Dtype \n",
            "---  ------  --------------  ----- \n",
            " 0   id      8392 non-null   object\n",
            " 1   text    8392 non-null   object\n",
            "dtypes: object(2)\n",
            "memory usage: 131.2+ KB\n"
          ],
          "name": "stdout"
        }
      ]
    },
    {
      "cell_type": "code",
      "metadata": {
        "id": "VsLNVbAHqV5e",
        "colab_type": "code",
        "outputId": "5553f1c0-5878-4868-be0c-b83efa5518bc",
        "colab": {
          "base_uri": "https://localhost:8080/",
          "height": 173
        }
      },
      "source": [
        "df_train.describe()"
      ],
      "execution_count": 7,
      "outputs": [
        {
          "output_type": "execute_result",
          "data": {
            "text/html": [
              "<div>\n",
              "<style scoped>\n",
              "    .dataframe tbody tr th:only-of-type {\n",
              "        vertical-align: middle;\n",
              "    }\n",
              "\n",
              "    .dataframe tbody tr th {\n",
              "        vertical-align: top;\n",
              "    }\n",
              "\n",
              "    .dataframe thead th {\n",
              "        text-align: right;\n",
              "    }\n",
              "</style>\n",
              "<table border=\"1\" class=\"dataframe\">\n",
              "  <thead>\n",
              "    <tr style=\"text-align: right;\">\n",
              "      <th></th>\n",
              "      <th>id</th>\n",
              "      <th>text</th>\n",
              "      <th>author</th>\n",
              "    </tr>\n",
              "  </thead>\n",
              "  <tbody>\n",
              "    <tr>\n",
              "      <th>count</th>\n",
              "      <td>19579</td>\n",
              "      <td>19579</td>\n",
              "      <td>19579</td>\n",
              "    </tr>\n",
              "    <tr>\n",
              "      <th>unique</th>\n",
              "      <td>19579</td>\n",
              "      <td>19579</td>\n",
              "      <td>3</td>\n",
              "    </tr>\n",
              "    <tr>\n",
              "      <th>top</th>\n",
              "      <td>id02045</td>\n",
              "      <td>I spoke at length, and perseveringly of my dev...</td>\n",
              "      <td>EAP</td>\n",
              "    </tr>\n",
              "    <tr>\n",
              "      <th>freq</th>\n",
              "      <td>1</td>\n",
              "      <td>1</td>\n",
              "      <td>7900</td>\n",
              "    </tr>\n",
              "  </tbody>\n",
              "</table>\n",
              "</div>"
            ],
            "text/plain": [
              "             id                                               text author\n",
              "count     19579                                              19579  19579\n",
              "unique    19579                                              19579      3\n",
              "top     id02045  I spoke at length, and perseveringly of my dev...    EAP\n",
              "freq          1                                                  1   7900"
            ]
          },
          "metadata": {
            "tags": []
          },
          "execution_count": 7
        }
      ]
    },
    {
      "cell_type": "code",
      "metadata": {
        "id": "zUE5IIsVqZJ3",
        "colab_type": "code",
        "outputId": "70748470-e980-4d9e-dff6-a1d3b2aa2725",
        "colab": {
          "base_uri": "https://localhost:8080/",
          "height": 173
        }
      },
      "source": [
        "df_test.describe()"
      ],
      "execution_count": 8,
      "outputs": [
        {
          "output_type": "execute_result",
          "data": {
            "text/html": [
              "<div>\n",
              "<style scoped>\n",
              "    .dataframe tbody tr th:only-of-type {\n",
              "        vertical-align: middle;\n",
              "    }\n",
              "\n",
              "    .dataframe tbody tr th {\n",
              "        vertical-align: top;\n",
              "    }\n",
              "\n",
              "    .dataframe thead th {\n",
              "        text-align: right;\n",
              "    }\n",
              "</style>\n",
              "<table border=\"1\" class=\"dataframe\">\n",
              "  <thead>\n",
              "    <tr style=\"text-align: right;\">\n",
              "      <th></th>\n",
              "      <th>id</th>\n",
              "      <th>text</th>\n",
              "    </tr>\n",
              "  </thead>\n",
              "  <tbody>\n",
              "    <tr>\n",
              "      <th>count</th>\n",
              "      <td>8392</td>\n",
              "      <td>8392</td>\n",
              "    </tr>\n",
              "    <tr>\n",
              "      <th>unique</th>\n",
              "      <td>8392</td>\n",
              "      <td>8392</td>\n",
              "    </tr>\n",
              "    <tr>\n",
              "      <th>top</th>\n",
              "      <td>id11038</td>\n",
              "      <td>In the fourth niche the statue was veiled; it ...</td>\n",
              "    </tr>\n",
              "    <tr>\n",
              "      <th>freq</th>\n",
              "      <td>1</td>\n",
              "      <td>1</td>\n",
              "    </tr>\n",
              "  </tbody>\n",
              "</table>\n",
              "</div>"
            ],
            "text/plain": [
              "             id                                               text\n",
              "count      8392                                               8392\n",
              "unique     8392                                               8392\n",
              "top     id11038  In the fourth niche the statue was veiled; it ...\n",
              "freq          1                                                  1"
            ]
          },
          "metadata": {
            "tags": []
          },
          "execution_count": 8
        }
      ]
    },
    {
      "cell_type": "markdown",
      "metadata": {
        "id": "QghOgsu2rAJK",
        "colab_type": "text"
      },
      "source": [
        "## 3) Data Cleaning\n",
        "\n",
        "For this part,<br>\n",
        "- Removing leading and trailing white spaces.\n",
        "- Removing any non text character.\n",
        "- Lowercase all the words.\n",
        "- Removing punctuation marks.\n",
        "- Removing stop words.\n"
      ]
    },
    {
      "cell_type": "code",
      "metadata": {
        "id": "mEdsLyYXs6-h",
        "colab_type": "code",
        "outputId": "037d86bb-b37b-4494-92a1-bb0896616a35",
        "colab": {
          "base_uri": "https://localhost:8080/",
          "height": 34
        }
      },
      "source": [
        "re.sub('[^a-zA-Z]',' ','123')"
      ],
      "execution_count": 9,
      "outputs": [
        {
          "output_type": "execute_result",
          "data": {
            "text/plain": [
              "'   '"
            ]
          },
          "metadata": {
            "tags": []
          },
          "execution_count": 9
        }
      ]
    },
    {
      "cell_type": "code",
      "metadata": {
        "id": "HWepGdM8uCvg",
        "colab_type": "code",
        "outputId": "09103040-05f5-49db-e42e-9f6510eec1db",
        "colab": {
          "base_uri": "https://localhost:8080/",
          "height": 34
        }
      },
      "source": [
        "s = \"string. Wit'h. Punctuation?\"\n",
        "re.sub(r'[^\\w\\s]','',s)"
      ],
      "execution_count": 10,
      "outputs": [
        {
          "output_type": "execute_result",
          "data": {
            "text/plain": [
              "'string With Punctuation'"
            ]
          },
          "metadata": {
            "tags": []
          },
          "execution_count": 10
        }
      ]
    },
    {
      "cell_type": "code",
      "metadata": {
        "id": "l4PeY5dn8zil",
        "colab_type": "code",
        "outputId": "e9abcc20-fa61-4e42-e5e1-da21f70697ac",
        "colab": {
          "base_uri": "https://localhost:8080/",
          "height": 68
        }
      },
      "source": [
        "nltk.download('stopwords')"
      ],
      "execution_count": 11,
      "outputs": [
        {
          "output_type": "stream",
          "text": [
            "[nltk_data] Downloading package stopwords to /root/nltk_data...\n",
            "[nltk_data]   Unzipping corpora/stopwords.zip.\n"
          ],
          "name": "stdout"
        },
        {
          "output_type": "execute_result",
          "data": {
            "text/plain": [
              "True"
            ]
          },
          "metadata": {
            "tags": []
          },
          "execution_count": 11
        }
      ]
    },
    {
      "cell_type": "code",
      "metadata": {
        "id": "NyMiU4hyDrHx",
        "colab_type": "code",
        "outputId": "294884a2-a363-42d0-e832-7d3b1b454758",
        "colab": {
          "base_uri": "https://localhost:8080/",
          "height": 68
        }
      },
      "source": [
        "nltk.download('punkt')"
      ],
      "execution_count": 12,
      "outputs": [
        {
          "output_type": "stream",
          "text": [
            "[nltk_data] Downloading package punkt to /root/nltk_data...\n",
            "[nltk_data]   Unzipping tokenizers/punkt.zip.\n"
          ],
          "name": "stdout"
        },
        {
          "output_type": "execute_result",
          "data": {
            "text/plain": [
              "True"
            ]
          },
          "metadata": {
            "tags": []
          },
          "execution_count": 12
        }
      ]
    },
    {
      "cell_type": "code",
      "metadata": {
        "id": "nL4HlPIU8svl",
        "colab_type": "code",
        "colab": {}
      },
      "source": [
        "from nltk.corpus import stopwords\n",
        "#print(stopwords.words('english'))"
      ],
      "execution_count": 0,
      "outputs": []
    },
    {
      "cell_type": "code",
      "metadata": {
        "id": "EfOIAd9nCBeG",
        "colab_type": "code",
        "colab": {}
      },
      "source": [
        "from nltk.tokenize import word_tokenize \n",
        "stop_words = set(stopwords.words('english'))"
      ],
      "execution_count": 0,
      "outputs": []
    },
    {
      "cell_type": "code",
      "metadata": {
        "id": "l3DBYphUqyzo",
        "colab_type": "code",
        "colab": {}
      },
      "source": [
        "# lets write function for it.\n",
        "\n",
        "def text_cleaning(text):\n",
        "  text = re.sub(r'[^a-zA-Z]',' ',text) # removing non-character text\n",
        "  text = re.sub(r'[^\\w\\s]',' ',text)    # removing punctuation marks\n",
        "  text = text.strip()                  # removing leading and trailing white spaces\n",
        "  text = text.lower()                  # converting everything to lowercase\n",
        "  return text"
      ],
      "execution_count": 0,
      "outputs": []
    },
    {
      "cell_type": "code",
      "metadata": {
        "id": "I4xWSPCE9H2Y",
        "colab_type": "code",
        "colab": {}
      },
      "source": [
        "# For train file\n",
        "\n",
        "df_train['text'] = df_train['text'].apply(lambda x : text_cleaning(x))\n",
        "\n",
        "# For test file\n",
        "\n",
        "df_test['text'] = df_test['text'].apply(lambda x : text_cleaning(x))"
      ],
      "execution_count": 0,
      "outputs": []
    },
    {
      "cell_type": "code",
      "metadata": {
        "id": "XdbXksu59eTg",
        "colab_type": "code",
        "outputId": "9d6c10f5-275d-4c0e-a442-ec54a0a4a508",
        "colab": {
          "base_uri": "https://localhost:8080/",
          "height": 54
        }
      },
      "source": [
        "print(df_train['text'][0])"
      ],
      "execution_count": 17,
      "outputs": [
        {
          "output_type": "stream",
          "text": [
            "this process  however  afforded me no means of ascertaining the dimensions of my dungeon  as i might make its circuit  and return to the point whence i set out  without being aware of the fact  so perfectly uniform seemed the wall\n"
          ],
          "name": "stdout"
        }
      ]
    },
    {
      "cell_type": "markdown",
      "metadata": {
        "id": "8BQWD1pY_H8T",
        "colab_type": "text"
      },
      "source": [
        "Now, we will perform<br>\n",
        "- As text is given, so at last creating a dictionary for text."
      ]
    },
    {
      "cell_type": "code",
      "metadata": {
        "id": "AkvBPJtn93rf",
        "colab_type": "code",
        "colab": {}
      },
      "source": [
        "# print(df_train['text'].head())"
      ],
      "execution_count": 0,
      "outputs": []
    },
    {
      "cell_type": "code",
      "metadata": {
        "id": "FODH6O2HAM_R",
        "colab_type": "code",
        "colab": {}
      },
      "source": [
        "# print(df_test['text'].head())"
      ],
      "execution_count": 0,
      "outputs": []
    },
    {
      "cell_type": "code",
      "metadata": {
        "id": "2pN5blq3AdI0",
        "colab_type": "code",
        "colab": {}
      },
      "source": [
        "txt = []\n",
        "for t in df_train['text']:\n",
        "  a = set(t)\n",
        "  txt.append(a)\n",
        "\n",
        "for t in df_test['text']:\n",
        "  a = set(t)\n",
        "  txt.append(a)\n"
      ],
      "execution_count": 0,
      "outputs": []
    },
    {
      "cell_type": "code",
      "metadata": {
        "id": "vgSkGOZ-Ejfn",
        "colab_type": "code",
        "outputId": "49a90837-cb85-45c7-8f7d-ecd945a349e0",
        "colab": {
          "base_uri": "https://localhost:8080/",
          "height": 34
        }
      },
      "source": [
        "print(len(txt))"
      ],
      "execution_count": 21,
      "outputs": [
        {
          "output_type": "stream",
          "text": [
            "27971\n"
          ],
          "name": "stdout"
        }
      ]
    },
    {
      "cell_type": "code",
      "metadata": {
        "id": "3wgacQ_-FZlz",
        "colab_type": "code",
        "colab": {}
      },
      "source": [
        "from sklearn.feature_extraction.text import TfidfVectorizer"
      ],
      "execution_count": 0,
      "outputs": []
    },
    {
      "cell_type": "code",
      "metadata": {
        "id": "-mHrMmU-RhbE",
        "colab_type": "code",
        "colab": {}
      },
      "source": [
        "X = df_train['text'].values\n",
        "X_test = df_test['text'].values"
      ],
      "execution_count": 0,
      "outputs": []
    },
    {
      "cell_type": "code",
      "metadata": {
        "id": "SK_mRjh4SCvI",
        "colab_type": "code",
        "colab": {}
      },
      "source": [
        "vectorizer = TfidfVectorizer(stop_words='english')  # removing stop words as well"
      ],
      "execution_count": 0,
      "outputs": []
    },
    {
      "cell_type": "code",
      "metadata": {
        "id": "MF5DeOq1SEFQ",
        "colab_type": "code",
        "colab": {
          "base_uri": "https://localhost:8080/",
          "height": 34
        },
        "outputId": "b10839f6-9bf8-4c95-bae8-62b763f61dc0"
      },
      "source": [
        "# Example\n",
        "\n",
        "corpus = ['This is the first document.','This document is the second document.','And this is the third one.','Is this the first document?']\n",
        "a = vectorizer.fit_transform(corpus)\n",
        "print(vectorizer.get_feature_names())"
      ],
      "execution_count": 25,
      "outputs": [
        {
          "output_type": "stream",
          "text": [
            "['document', 'second']\n"
          ],
          "name": "stdout"
        }
      ]
    },
    {
      "cell_type": "code",
      "metadata": {
        "id": "yszh_Fe-SwaN",
        "colab_type": "code",
        "colab": {}
      },
      "source": [
        "X = vectorizer.fit_transform(X)\n",
        "X_test = vectorizer.transform(X_test)"
      ],
      "execution_count": 0,
      "outputs": []
    },
    {
      "cell_type": "code",
      "metadata": {
        "id": "pM7afwMyTbm3",
        "colab_type": "code",
        "colab": {
          "base_uri": "https://localhost:8080/",
          "height": 34
        },
        "outputId": "355b3504-0270-422a-9962-109997bc770e"
      },
      "source": [
        "print(len(vectorizer.get_feature_names()))"
      ],
      "execution_count": 27,
      "outputs": [
        {
          "output_type": "stream",
          "text": [
            "24748\n"
          ],
          "name": "stdout"
        }
      ]
    },
    {
      "cell_type": "code",
      "metadata": {
        "id": "_OrFJuAnTv0l",
        "colab_type": "code",
        "colab": {
          "base_uri": "https://localhost:8080/",
          "height": 34
        },
        "outputId": "9e262bb8-5dad-4ab5-8bf4-a21435b2f2f8"
      },
      "source": [
        "print(X.shape)"
      ],
      "execution_count": 28,
      "outputs": [
        {
          "output_type": "stream",
          "text": [
            "(19579, 24748)\n"
          ],
          "name": "stdout"
        }
      ]
    },
    {
      "cell_type": "code",
      "metadata": {
        "id": "J8lWB86nUJAx",
        "colab_type": "code",
        "colab": {
          "base_uri": "https://localhost:8080/",
          "height": 34
        },
        "outputId": "5ba09821-90b8-4f28-b1ec-eefffe645472"
      },
      "source": [
        "print(X_test.shape)"
      ],
      "execution_count": 29,
      "outputs": [
        {
          "output_type": "stream",
          "text": [
            "(8392, 24748)\n"
          ],
          "name": "stdout"
        }
      ]
    },
    {
      "cell_type": "code",
      "metadata": {
        "id": "8ZoZNIccULVp",
        "colab_type": "code",
        "colab": {}
      },
      "source": [
        "# for y now\n",
        "author_name = {'EAP':0,'HPL':1,'MWS':2}\n",
        "y = (df_train['author'].map(author_name)).values "
      ],
      "execution_count": 0,
      "outputs": []
    },
    {
      "cell_type": "code",
      "metadata": {
        "id": "9WisYYi3Uml_",
        "colab_type": "code",
        "colab": {
          "base_uri": "https://localhost:8080/",
          "height": 34
        },
        "outputId": "38420b1c-d03a-4bea-a850-a1fe6e921a2c"
      },
      "source": [
        "print(y.shape, y[:5])"
      ],
      "execution_count": 31,
      "outputs": [
        {
          "output_type": "stream",
          "text": [
            "(19579,) [0 1 0 2 1]\n"
          ],
          "name": "stdout"
        }
      ]
    },
    {
      "cell_type": "code",
      "metadata": {
        "id": "qPPTdTckWat2",
        "colab_type": "code",
        "colab": {}
      },
      "source": [
        "# Coverting into test val and train set\n",
        "from sklearn.model_selection import train_test_split\n",
        "\n",
        "X_train, X_val, y_train, y_val = train_test_split(X,y,test_size=0.1)\n"
      ],
      "execution_count": 0,
      "outputs": []
    },
    {
      "cell_type": "code",
      "metadata": {
        "id": "5Ku9qKt9WxbN",
        "colab_type": "code",
        "colab": {
          "base_uri": "https://localhost:8080/",
          "height": 34
        },
        "outputId": "ea07b550-9464-47c2-aa48-7c8c8375a544"
      },
      "source": [
        "print(X_train.shape, X_val.shape, y_train.shape, y_val.shape)"
      ],
      "execution_count": 33,
      "outputs": [
        {
          "output_type": "stream",
          "text": [
            "(17621, 24748) (1958, 24748) (17621,) (1958,)\n"
          ],
          "name": "stdout"
        }
      ]
    },
    {
      "cell_type": "markdown",
      "metadata": {
        "id": "J1xGxg0wZl0O",
        "colab_type": "text"
      },
      "source": [
        "## 4) Building and Applying the model"
      ]
    },
    {
      "cell_type": "markdown",
      "metadata": {
        "id": "1QHvNSENZrS7",
        "colab_type": "text"
      },
      "source": [
        "### 4.1) Lets try for XGBoost"
      ]
    },
    {
      "cell_type": "code",
      "metadata": {
        "id": "OSuSF_RtY2ji",
        "colab_type": "code",
        "colab": {}
      },
      "source": [
        "import xgboost as xgb"
      ],
      "execution_count": 0,
      "outputs": []
    },
    {
      "cell_type": "code",
      "metadata": {
        "id": "GV3vySlvbS_7",
        "colab_type": "code",
        "colab": {}
      },
      "source": [
        "dtrain = xgb.DMatrix(data=X_train, label=y_train)\n",
        "dval = xgb.DMatrix(data = X_val,label = y_val)\n",
        "dtest = xgb.DMatrix(data=X_test)"
      ],
      "execution_count": 0,
      "outputs": []
    },
    {
      "cell_type": "code",
      "metadata": {
        "id": "Bon_Q0lOiNVP",
        "colab_type": "code",
        "colab": {}
      },
      "source": [
        "eval_set = [(X_val,y_val)]"
      ],
      "execution_count": 0,
      "outputs": []
    },
    {
      "cell_type": "code",
      "metadata": {
        "id": "l1tZeyHzZ02r",
        "colab_type": "code",
        "colab": {}
      },
      "source": [
        "params = {'objective':'multi:softmax',\n",
        "          'num_class':3,\n",
        "          'eval_metric':'mlogloss'}"
      ],
      "execution_count": 0,
      "outputs": []
    },
    {
      "cell_type": "code",
      "metadata": {
        "id": "K_UFZsCMoPi-",
        "colab_type": "code",
        "colab": {}
      },
      "source": [
        "model = xgb.XGBClassifier(objective='multi:softmax',\n",
        "                          num_class=3,\n",
        "                          eval_metric='mlogloss',\n",
        "                          max_depth=6,\n",
        "                          n_estimators=1000,\n",
        "                          learning_rate=0.2,\n",
        "                          early_stopping_rounds=10,\n",
        "                          n_jobs=-1\n",
        "                          )"
      ],
      "execution_count": 0,
      "outputs": []
    },
    {
      "cell_type": "code",
      "metadata": {
        "id": "38w8YItSeJ6R",
        "colab_type": "code",
        "colab": {
          "base_uri": "https://localhost:8080/",
          "height": 1000
        },
        "outputId": "97de298e-f21a-484e-a4ab-22c27cb46835"
      },
      "source": [
        "model.fit(X_train,y_train,eval_metric='mlogloss',eval_set=eval_set,verbose=True)"
      ],
      "execution_count": 58,
      "outputs": [
        {
          "output_type": "stream",
          "text": [
            "[0]\tvalidation_0-mlogloss:1.07636\n",
            "[1]\tvalidation_0-mlogloss:1.06044\n",
            "[2]\tvalidation_0-mlogloss:1.04637\n",
            "[3]\tvalidation_0-mlogloss:1.03635\n",
            "[4]\tvalidation_0-mlogloss:1.02639\n",
            "[5]\tvalidation_0-mlogloss:1.01734\n",
            "[6]\tvalidation_0-mlogloss:1.00927\n",
            "[7]\tvalidation_0-mlogloss:1.00263\n",
            "[8]\tvalidation_0-mlogloss:0.99424\n",
            "[9]\tvalidation_0-mlogloss:0.988788\n",
            "[10]\tvalidation_0-mlogloss:0.982884\n",
            "[11]\tvalidation_0-mlogloss:0.9768\n",
            "[12]\tvalidation_0-mlogloss:0.972137\n",
            "[13]\tvalidation_0-mlogloss:0.967347\n",
            "[14]\tvalidation_0-mlogloss:0.962746\n",
            "[15]\tvalidation_0-mlogloss:0.958141\n",
            "[16]\tvalidation_0-mlogloss:0.953641\n",
            "[17]\tvalidation_0-mlogloss:0.949955\n",
            "[18]\tvalidation_0-mlogloss:0.946121\n",
            "[19]\tvalidation_0-mlogloss:0.942175\n",
            "[20]\tvalidation_0-mlogloss:0.938495\n",
            "[21]\tvalidation_0-mlogloss:0.934953\n",
            "[22]\tvalidation_0-mlogloss:0.931957\n",
            "[23]\tvalidation_0-mlogloss:0.928853\n",
            "[24]\tvalidation_0-mlogloss:0.925378\n",
            "[25]\tvalidation_0-mlogloss:0.922971\n",
            "[26]\tvalidation_0-mlogloss:0.919854\n",
            "[27]\tvalidation_0-mlogloss:0.916832\n",
            "[28]\tvalidation_0-mlogloss:0.913953\n",
            "[29]\tvalidation_0-mlogloss:0.910458\n",
            "[30]\tvalidation_0-mlogloss:0.907729\n",
            "[31]\tvalidation_0-mlogloss:0.904709\n",
            "[32]\tvalidation_0-mlogloss:0.902121\n",
            "[33]\tvalidation_0-mlogloss:0.898868\n",
            "[34]\tvalidation_0-mlogloss:0.896282\n",
            "[35]\tvalidation_0-mlogloss:0.89454\n",
            "[36]\tvalidation_0-mlogloss:0.892246\n",
            "[37]\tvalidation_0-mlogloss:0.890425\n",
            "[38]\tvalidation_0-mlogloss:0.888407\n",
            "[39]\tvalidation_0-mlogloss:0.886203\n",
            "[40]\tvalidation_0-mlogloss:0.883892\n",
            "[41]\tvalidation_0-mlogloss:0.881348\n",
            "[42]\tvalidation_0-mlogloss:0.87909\n",
            "[43]\tvalidation_0-mlogloss:0.877174\n",
            "[44]\tvalidation_0-mlogloss:0.874844\n",
            "[45]\tvalidation_0-mlogloss:0.873118\n",
            "[46]\tvalidation_0-mlogloss:0.871078\n",
            "[47]\tvalidation_0-mlogloss:0.868183\n",
            "[48]\tvalidation_0-mlogloss:0.866283\n",
            "[49]\tvalidation_0-mlogloss:0.864774\n",
            "[50]\tvalidation_0-mlogloss:0.863106\n",
            "[51]\tvalidation_0-mlogloss:0.86113\n",
            "[52]\tvalidation_0-mlogloss:0.859338\n",
            "[53]\tvalidation_0-mlogloss:0.856984\n",
            "[54]\tvalidation_0-mlogloss:0.855125\n",
            "[55]\tvalidation_0-mlogloss:0.853704\n",
            "[56]\tvalidation_0-mlogloss:0.851923\n",
            "[57]\tvalidation_0-mlogloss:0.850599\n",
            "[58]\tvalidation_0-mlogloss:0.848941\n",
            "[59]\tvalidation_0-mlogloss:0.846604\n",
            "[60]\tvalidation_0-mlogloss:0.844903\n",
            "[61]\tvalidation_0-mlogloss:0.843594\n",
            "[62]\tvalidation_0-mlogloss:0.842202\n",
            "[63]\tvalidation_0-mlogloss:0.840784\n",
            "[64]\tvalidation_0-mlogloss:0.839448\n",
            "[65]\tvalidation_0-mlogloss:0.837896\n",
            "[66]\tvalidation_0-mlogloss:0.836351\n",
            "[67]\tvalidation_0-mlogloss:0.834871\n",
            "[68]\tvalidation_0-mlogloss:0.833316\n",
            "[69]\tvalidation_0-mlogloss:0.832055\n",
            "[70]\tvalidation_0-mlogloss:0.830361\n",
            "[71]\tvalidation_0-mlogloss:0.82825\n",
            "[72]\tvalidation_0-mlogloss:0.826385\n",
            "[73]\tvalidation_0-mlogloss:0.824678\n",
            "[74]\tvalidation_0-mlogloss:0.82344\n",
            "[75]\tvalidation_0-mlogloss:0.822016\n",
            "[76]\tvalidation_0-mlogloss:0.820571\n",
            "[77]\tvalidation_0-mlogloss:0.819384\n",
            "[78]\tvalidation_0-mlogloss:0.818757\n",
            "[79]\tvalidation_0-mlogloss:0.817944\n",
            "[80]\tvalidation_0-mlogloss:0.816486\n",
            "[81]\tvalidation_0-mlogloss:0.815328\n",
            "[82]\tvalidation_0-mlogloss:0.814245\n",
            "[83]\tvalidation_0-mlogloss:0.81315\n",
            "[84]\tvalidation_0-mlogloss:0.811311\n",
            "[85]\tvalidation_0-mlogloss:0.81008\n",
            "[86]\tvalidation_0-mlogloss:0.809101\n",
            "[87]\tvalidation_0-mlogloss:0.807679\n",
            "[88]\tvalidation_0-mlogloss:0.806608\n",
            "[89]\tvalidation_0-mlogloss:0.8054\n",
            "[90]\tvalidation_0-mlogloss:0.804383\n",
            "[91]\tvalidation_0-mlogloss:0.803461\n",
            "[92]\tvalidation_0-mlogloss:0.802558\n",
            "[93]\tvalidation_0-mlogloss:0.801413\n",
            "[94]\tvalidation_0-mlogloss:0.800143\n",
            "[95]\tvalidation_0-mlogloss:0.799065\n",
            "[96]\tvalidation_0-mlogloss:0.79785\n",
            "[97]\tvalidation_0-mlogloss:0.796971\n",
            "[98]\tvalidation_0-mlogloss:0.796038\n",
            "[99]\tvalidation_0-mlogloss:0.794297\n",
            "[100]\tvalidation_0-mlogloss:0.792673\n",
            "[101]\tvalidation_0-mlogloss:0.791442\n",
            "[102]\tvalidation_0-mlogloss:0.790668\n",
            "[103]\tvalidation_0-mlogloss:0.789963\n",
            "[104]\tvalidation_0-mlogloss:0.788799\n",
            "[105]\tvalidation_0-mlogloss:0.787811\n",
            "[106]\tvalidation_0-mlogloss:0.787333\n",
            "[107]\tvalidation_0-mlogloss:0.78592\n",
            "[108]\tvalidation_0-mlogloss:0.784747\n",
            "[109]\tvalidation_0-mlogloss:0.784147\n",
            "[110]\tvalidation_0-mlogloss:0.783315\n",
            "[111]\tvalidation_0-mlogloss:0.782295\n",
            "[112]\tvalidation_0-mlogloss:0.781519\n",
            "[113]\tvalidation_0-mlogloss:0.780382\n",
            "[114]\tvalidation_0-mlogloss:0.779482\n",
            "[115]\tvalidation_0-mlogloss:0.778538\n",
            "[116]\tvalidation_0-mlogloss:0.777662\n",
            "[117]\tvalidation_0-mlogloss:0.776615\n",
            "[118]\tvalidation_0-mlogloss:0.775796\n",
            "[119]\tvalidation_0-mlogloss:0.775298\n",
            "[120]\tvalidation_0-mlogloss:0.774557\n",
            "[121]\tvalidation_0-mlogloss:0.773717\n",
            "[122]\tvalidation_0-mlogloss:0.773184\n",
            "[123]\tvalidation_0-mlogloss:0.772014\n",
            "[124]\tvalidation_0-mlogloss:0.771171\n",
            "[125]\tvalidation_0-mlogloss:0.770595\n",
            "[126]\tvalidation_0-mlogloss:0.769226\n",
            "[127]\tvalidation_0-mlogloss:0.767877\n",
            "[128]\tvalidation_0-mlogloss:0.767492\n",
            "[129]\tvalidation_0-mlogloss:0.766522\n",
            "[130]\tvalidation_0-mlogloss:0.76543\n",
            "[131]\tvalidation_0-mlogloss:0.764613\n",
            "[132]\tvalidation_0-mlogloss:0.764091\n",
            "[133]\tvalidation_0-mlogloss:0.76366\n",
            "[134]\tvalidation_0-mlogloss:0.762588\n",
            "[135]\tvalidation_0-mlogloss:0.761635\n",
            "[136]\tvalidation_0-mlogloss:0.761056\n",
            "[137]\tvalidation_0-mlogloss:0.760352\n",
            "[138]\tvalidation_0-mlogloss:0.759759\n",
            "[139]\tvalidation_0-mlogloss:0.759069\n",
            "[140]\tvalidation_0-mlogloss:0.757976\n",
            "[141]\tvalidation_0-mlogloss:0.757549\n",
            "[142]\tvalidation_0-mlogloss:0.756533\n",
            "[143]\tvalidation_0-mlogloss:0.755776\n",
            "[144]\tvalidation_0-mlogloss:0.754621\n",
            "[145]\tvalidation_0-mlogloss:0.753874\n",
            "[146]\tvalidation_0-mlogloss:0.753392\n",
            "[147]\tvalidation_0-mlogloss:0.752204\n",
            "[148]\tvalidation_0-mlogloss:0.75162\n",
            "[149]\tvalidation_0-mlogloss:0.750892\n",
            "[150]\tvalidation_0-mlogloss:0.749784\n",
            "[151]\tvalidation_0-mlogloss:0.749263\n",
            "[152]\tvalidation_0-mlogloss:0.748077\n",
            "[153]\tvalidation_0-mlogloss:0.747045\n",
            "[154]\tvalidation_0-mlogloss:0.746089\n",
            "[155]\tvalidation_0-mlogloss:0.745346\n",
            "[156]\tvalidation_0-mlogloss:0.744625\n",
            "[157]\tvalidation_0-mlogloss:0.744082\n",
            "[158]\tvalidation_0-mlogloss:0.743236\n",
            "[159]\tvalidation_0-mlogloss:0.742551\n",
            "[160]\tvalidation_0-mlogloss:0.741889\n",
            "[161]\tvalidation_0-mlogloss:0.741276\n",
            "[162]\tvalidation_0-mlogloss:0.740526\n",
            "[163]\tvalidation_0-mlogloss:0.740104\n",
            "[164]\tvalidation_0-mlogloss:0.739259\n",
            "[165]\tvalidation_0-mlogloss:0.738644\n",
            "[166]\tvalidation_0-mlogloss:0.738002\n",
            "[167]\tvalidation_0-mlogloss:0.737178\n",
            "[168]\tvalidation_0-mlogloss:0.736735\n",
            "[169]\tvalidation_0-mlogloss:0.736063\n",
            "[170]\tvalidation_0-mlogloss:0.735535\n",
            "[171]\tvalidation_0-mlogloss:0.734674\n",
            "[172]\tvalidation_0-mlogloss:0.734284\n",
            "[173]\tvalidation_0-mlogloss:0.733724\n",
            "[174]\tvalidation_0-mlogloss:0.733055\n",
            "[175]\tvalidation_0-mlogloss:0.732423\n",
            "[176]\tvalidation_0-mlogloss:0.731768\n",
            "[177]\tvalidation_0-mlogloss:0.731166\n",
            "[178]\tvalidation_0-mlogloss:0.730626\n",
            "[179]\tvalidation_0-mlogloss:0.730103\n",
            "[180]\tvalidation_0-mlogloss:0.729328\n",
            "[181]\tvalidation_0-mlogloss:0.72865\n",
            "[182]\tvalidation_0-mlogloss:0.728508\n",
            "[183]\tvalidation_0-mlogloss:0.727603\n",
            "[184]\tvalidation_0-mlogloss:0.726963\n",
            "[185]\tvalidation_0-mlogloss:0.726207\n",
            "[186]\tvalidation_0-mlogloss:0.725765\n",
            "[187]\tvalidation_0-mlogloss:0.724988\n",
            "[188]\tvalidation_0-mlogloss:0.724105\n",
            "[189]\tvalidation_0-mlogloss:0.723382\n",
            "[190]\tvalidation_0-mlogloss:0.723028\n",
            "[191]\tvalidation_0-mlogloss:0.722437\n",
            "[192]\tvalidation_0-mlogloss:0.721724\n",
            "[193]\tvalidation_0-mlogloss:0.72086\n",
            "[194]\tvalidation_0-mlogloss:0.720159\n",
            "[195]\tvalidation_0-mlogloss:0.719641\n",
            "[196]\tvalidation_0-mlogloss:0.718924\n",
            "[197]\tvalidation_0-mlogloss:0.718565\n",
            "[198]\tvalidation_0-mlogloss:0.717984\n",
            "[199]\tvalidation_0-mlogloss:0.717333\n",
            "[200]\tvalidation_0-mlogloss:0.716706\n",
            "[201]\tvalidation_0-mlogloss:0.716512\n",
            "[202]\tvalidation_0-mlogloss:0.716287\n",
            "[203]\tvalidation_0-mlogloss:0.715552\n",
            "[204]\tvalidation_0-mlogloss:0.715294\n",
            "[205]\tvalidation_0-mlogloss:0.714561\n",
            "[206]\tvalidation_0-mlogloss:0.714085\n",
            "[207]\tvalidation_0-mlogloss:0.713309\n",
            "[208]\tvalidation_0-mlogloss:0.712865\n",
            "[209]\tvalidation_0-mlogloss:0.712543\n",
            "[210]\tvalidation_0-mlogloss:0.711701\n",
            "[211]\tvalidation_0-mlogloss:0.711117\n",
            "[212]\tvalidation_0-mlogloss:0.710764\n",
            "[213]\tvalidation_0-mlogloss:0.710224\n",
            "[214]\tvalidation_0-mlogloss:0.71002\n",
            "[215]\tvalidation_0-mlogloss:0.709371\n",
            "[216]\tvalidation_0-mlogloss:0.708631\n",
            "[217]\tvalidation_0-mlogloss:0.707851\n",
            "[218]\tvalidation_0-mlogloss:0.707159\n",
            "[219]\tvalidation_0-mlogloss:0.706495\n",
            "[220]\tvalidation_0-mlogloss:0.705738\n",
            "[221]\tvalidation_0-mlogloss:0.705249\n",
            "[222]\tvalidation_0-mlogloss:0.704594\n",
            "[223]\tvalidation_0-mlogloss:0.704291\n",
            "[224]\tvalidation_0-mlogloss:0.703901\n",
            "[225]\tvalidation_0-mlogloss:0.703486\n",
            "[226]\tvalidation_0-mlogloss:0.703281\n",
            "[227]\tvalidation_0-mlogloss:0.703185\n",
            "[228]\tvalidation_0-mlogloss:0.702865\n",
            "[229]\tvalidation_0-mlogloss:0.702411\n",
            "[230]\tvalidation_0-mlogloss:0.701851\n",
            "[231]\tvalidation_0-mlogloss:0.701357\n",
            "[232]\tvalidation_0-mlogloss:0.701272\n",
            "[233]\tvalidation_0-mlogloss:0.700645\n",
            "[234]\tvalidation_0-mlogloss:0.70035\n",
            "[235]\tvalidation_0-mlogloss:0.699986\n",
            "[236]\tvalidation_0-mlogloss:0.699695\n",
            "[237]\tvalidation_0-mlogloss:0.6993\n",
            "[238]\tvalidation_0-mlogloss:0.698778\n",
            "[239]\tvalidation_0-mlogloss:0.698182\n",
            "[240]\tvalidation_0-mlogloss:0.69777\n",
            "[241]\tvalidation_0-mlogloss:0.697502\n",
            "[242]\tvalidation_0-mlogloss:0.6969\n",
            "[243]\tvalidation_0-mlogloss:0.696367\n",
            "[244]\tvalidation_0-mlogloss:0.695947\n",
            "[245]\tvalidation_0-mlogloss:0.695684\n",
            "[246]\tvalidation_0-mlogloss:0.695264\n",
            "[247]\tvalidation_0-mlogloss:0.695043\n",
            "[248]\tvalidation_0-mlogloss:0.694566\n",
            "[249]\tvalidation_0-mlogloss:0.693874\n",
            "[250]\tvalidation_0-mlogloss:0.693541\n",
            "[251]\tvalidation_0-mlogloss:0.693459\n",
            "[252]\tvalidation_0-mlogloss:0.692873\n",
            "[253]\tvalidation_0-mlogloss:0.692494\n",
            "[254]\tvalidation_0-mlogloss:0.69202\n",
            "[255]\tvalidation_0-mlogloss:0.691711\n",
            "[256]\tvalidation_0-mlogloss:0.691404\n",
            "[257]\tvalidation_0-mlogloss:0.691123\n",
            "[258]\tvalidation_0-mlogloss:0.690525\n",
            "[259]\tvalidation_0-mlogloss:0.690232\n",
            "[260]\tvalidation_0-mlogloss:0.689816\n",
            "[261]\tvalidation_0-mlogloss:0.689316\n",
            "[262]\tvalidation_0-mlogloss:0.688641\n",
            "[263]\tvalidation_0-mlogloss:0.688275\n",
            "[264]\tvalidation_0-mlogloss:0.687957\n",
            "[265]\tvalidation_0-mlogloss:0.687701\n",
            "[266]\tvalidation_0-mlogloss:0.68735\n",
            "[267]\tvalidation_0-mlogloss:0.686868\n",
            "[268]\tvalidation_0-mlogloss:0.686348\n",
            "[269]\tvalidation_0-mlogloss:0.686068\n",
            "[270]\tvalidation_0-mlogloss:0.685395\n",
            "[271]\tvalidation_0-mlogloss:0.685141\n",
            "[272]\tvalidation_0-mlogloss:0.684505\n",
            "[273]\tvalidation_0-mlogloss:0.683879\n",
            "[274]\tvalidation_0-mlogloss:0.683304\n",
            "[275]\tvalidation_0-mlogloss:0.682768\n",
            "[276]\tvalidation_0-mlogloss:0.682356\n",
            "[277]\tvalidation_0-mlogloss:0.681993\n",
            "[278]\tvalidation_0-mlogloss:0.681703\n",
            "[279]\tvalidation_0-mlogloss:0.681312\n",
            "[280]\tvalidation_0-mlogloss:0.681109\n",
            "[281]\tvalidation_0-mlogloss:0.680772\n",
            "[282]\tvalidation_0-mlogloss:0.680787\n",
            "[283]\tvalidation_0-mlogloss:0.680339\n",
            "[284]\tvalidation_0-mlogloss:0.680212\n",
            "[285]\tvalidation_0-mlogloss:0.679673\n",
            "[286]\tvalidation_0-mlogloss:0.679354\n",
            "[287]\tvalidation_0-mlogloss:0.679072\n",
            "[288]\tvalidation_0-mlogloss:0.678709\n",
            "[289]\tvalidation_0-mlogloss:0.678372\n",
            "[290]\tvalidation_0-mlogloss:0.677731\n",
            "[291]\tvalidation_0-mlogloss:0.677519\n",
            "[292]\tvalidation_0-mlogloss:0.677249\n",
            "[293]\tvalidation_0-mlogloss:0.677\n",
            "[294]\tvalidation_0-mlogloss:0.676573\n",
            "[295]\tvalidation_0-mlogloss:0.67614\n",
            "[296]\tvalidation_0-mlogloss:0.675741\n",
            "[297]\tvalidation_0-mlogloss:0.675653\n",
            "[298]\tvalidation_0-mlogloss:0.675397\n",
            "[299]\tvalidation_0-mlogloss:0.675189\n",
            "[300]\tvalidation_0-mlogloss:0.67489\n",
            "[301]\tvalidation_0-mlogloss:0.674368\n",
            "[302]\tvalidation_0-mlogloss:0.673745\n",
            "[303]\tvalidation_0-mlogloss:0.673429\n",
            "[304]\tvalidation_0-mlogloss:0.673232\n",
            "[305]\tvalidation_0-mlogloss:0.672858\n",
            "[306]\tvalidation_0-mlogloss:0.672563\n",
            "[307]\tvalidation_0-mlogloss:0.672027\n",
            "[308]\tvalidation_0-mlogloss:0.671925\n",
            "[309]\tvalidation_0-mlogloss:0.671488\n",
            "[310]\tvalidation_0-mlogloss:0.67098\n",
            "[311]\tvalidation_0-mlogloss:0.670562\n",
            "[312]\tvalidation_0-mlogloss:0.670194\n",
            "[313]\tvalidation_0-mlogloss:0.669638\n",
            "[314]\tvalidation_0-mlogloss:0.669284\n",
            "[315]\tvalidation_0-mlogloss:0.668996\n",
            "[316]\tvalidation_0-mlogloss:0.668632\n",
            "[317]\tvalidation_0-mlogloss:0.668175\n",
            "[318]\tvalidation_0-mlogloss:0.668007\n",
            "[319]\tvalidation_0-mlogloss:0.667766\n",
            "[320]\tvalidation_0-mlogloss:0.667611\n",
            "[321]\tvalidation_0-mlogloss:0.667425\n",
            "[322]\tvalidation_0-mlogloss:0.66718\n",
            "[323]\tvalidation_0-mlogloss:0.666899\n",
            "[324]\tvalidation_0-mlogloss:0.666767\n",
            "[325]\tvalidation_0-mlogloss:0.66635\n",
            "[326]\tvalidation_0-mlogloss:0.665908\n",
            "[327]\tvalidation_0-mlogloss:0.66563\n",
            "[328]\tvalidation_0-mlogloss:0.665648\n",
            "[329]\tvalidation_0-mlogloss:0.665306\n",
            "[330]\tvalidation_0-mlogloss:0.665065\n",
            "[331]\tvalidation_0-mlogloss:0.664711\n",
            "[332]\tvalidation_0-mlogloss:0.66429\n",
            "[333]\tvalidation_0-mlogloss:0.663886\n",
            "[334]\tvalidation_0-mlogloss:0.663645\n",
            "[335]\tvalidation_0-mlogloss:0.663423\n",
            "[336]\tvalidation_0-mlogloss:0.663259\n",
            "[337]\tvalidation_0-mlogloss:0.663114\n",
            "[338]\tvalidation_0-mlogloss:0.662809\n",
            "[339]\tvalidation_0-mlogloss:0.662695\n",
            "[340]\tvalidation_0-mlogloss:0.662449\n",
            "[341]\tvalidation_0-mlogloss:0.662152\n",
            "[342]\tvalidation_0-mlogloss:0.661859\n",
            "[343]\tvalidation_0-mlogloss:0.661347\n",
            "[344]\tvalidation_0-mlogloss:0.661248\n",
            "[345]\tvalidation_0-mlogloss:0.660858\n",
            "[346]\tvalidation_0-mlogloss:0.660809\n",
            "[347]\tvalidation_0-mlogloss:0.660689\n",
            "[348]\tvalidation_0-mlogloss:0.660443\n",
            "[349]\tvalidation_0-mlogloss:0.660088\n",
            "[350]\tvalidation_0-mlogloss:0.659718\n",
            "[351]\tvalidation_0-mlogloss:0.659515\n",
            "[352]\tvalidation_0-mlogloss:0.659256\n",
            "[353]\tvalidation_0-mlogloss:0.65909\n",
            "[354]\tvalidation_0-mlogloss:0.658807\n",
            "[355]\tvalidation_0-mlogloss:0.658698\n",
            "[356]\tvalidation_0-mlogloss:0.658569\n",
            "[357]\tvalidation_0-mlogloss:0.658069\n",
            "[358]\tvalidation_0-mlogloss:0.657828\n",
            "[359]\tvalidation_0-mlogloss:0.657511\n",
            "[360]\tvalidation_0-mlogloss:0.657217\n",
            "[361]\tvalidation_0-mlogloss:0.656732\n",
            "[362]\tvalidation_0-mlogloss:0.656375\n",
            "[363]\tvalidation_0-mlogloss:0.65595\n",
            "[364]\tvalidation_0-mlogloss:0.65549\n",
            "[365]\tvalidation_0-mlogloss:0.655148\n",
            "[366]\tvalidation_0-mlogloss:0.654911\n",
            "[367]\tvalidation_0-mlogloss:0.654718\n",
            "[368]\tvalidation_0-mlogloss:0.654486\n",
            "[369]\tvalidation_0-mlogloss:0.654172\n",
            "[370]\tvalidation_0-mlogloss:0.65357\n",
            "[371]\tvalidation_0-mlogloss:0.653415\n",
            "[372]\tvalidation_0-mlogloss:0.652942\n",
            "[373]\tvalidation_0-mlogloss:0.652671\n",
            "[374]\tvalidation_0-mlogloss:0.652281\n",
            "[375]\tvalidation_0-mlogloss:0.651842\n",
            "[376]\tvalidation_0-mlogloss:0.651374\n",
            "[377]\tvalidation_0-mlogloss:0.651332\n",
            "[378]\tvalidation_0-mlogloss:0.651186\n",
            "[379]\tvalidation_0-mlogloss:0.650936\n",
            "[380]\tvalidation_0-mlogloss:0.650898\n",
            "[381]\tvalidation_0-mlogloss:0.650923\n",
            "[382]\tvalidation_0-mlogloss:0.650498\n",
            "[383]\tvalidation_0-mlogloss:0.650016\n",
            "[384]\tvalidation_0-mlogloss:0.649766\n",
            "[385]\tvalidation_0-mlogloss:0.649781\n",
            "[386]\tvalidation_0-mlogloss:0.649627\n",
            "[387]\tvalidation_0-mlogloss:0.649508\n",
            "[388]\tvalidation_0-mlogloss:0.649197\n",
            "[389]\tvalidation_0-mlogloss:0.648826\n",
            "[390]\tvalidation_0-mlogloss:0.648727\n",
            "[391]\tvalidation_0-mlogloss:0.648753\n",
            "[392]\tvalidation_0-mlogloss:0.648486\n",
            "[393]\tvalidation_0-mlogloss:0.648128\n",
            "[394]\tvalidation_0-mlogloss:0.647767\n",
            "[395]\tvalidation_0-mlogloss:0.647583\n",
            "[396]\tvalidation_0-mlogloss:0.647067\n",
            "[397]\tvalidation_0-mlogloss:0.646716\n",
            "[398]\tvalidation_0-mlogloss:0.646493\n",
            "[399]\tvalidation_0-mlogloss:0.646002\n",
            "[400]\tvalidation_0-mlogloss:0.645873\n",
            "[401]\tvalidation_0-mlogloss:0.645722\n",
            "[402]\tvalidation_0-mlogloss:0.645372\n",
            "[403]\tvalidation_0-mlogloss:0.64498\n",
            "[404]\tvalidation_0-mlogloss:0.64483\n",
            "[405]\tvalidation_0-mlogloss:0.644687\n",
            "[406]\tvalidation_0-mlogloss:0.644615\n",
            "[407]\tvalidation_0-mlogloss:0.644472\n",
            "[408]\tvalidation_0-mlogloss:0.644317\n",
            "[409]\tvalidation_0-mlogloss:0.644334\n",
            "[410]\tvalidation_0-mlogloss:0.644309\n",
            "[411]\tvalidation_0-mlogloss:0.644254\n",
            "[412]\tvalidation_0-mlogloss:0.644185\n",
            "[413]\tvalidation_0-mlogloss:0.643951\n",
            "[414]\tvalidation_0-mlogloss:0.643759\n",
            "[415]\tvalidation_0-mlogloss:0.643499\n",
            "[416]\tvalidation_0-mlogloss:0.643417\n",
            "[417]\tvalidation_0-mlogloss:0.643076\n",
            "[418]\tvalidation_0-mlogloss:0.642694\n",
            "[419]\tvalidation_0-mlogloss:0.642463\n",
            "[420]\tvalidation_0-mlogloss:0.642024\n",
            "[421]\tvalidation_0-mlogloss:0.641686\n",
            "[422]\tvalidation_0-mlogloss:0.641317\n",
            "[423]\tvalidation_0-mlogloss:0.641089\n",
            "[424]\tvalidation_0-mlogloss:0.640801\n",
            "[425]\tvalidation_0-mlogloss:0.640619\n",
            "[426]\tvalidation_0-mlogloss:0.640364\n",
            "[427]\tvalidation_0-mlogloss:0.639843\n",
            "[428]\tvalidation_0-mlogloss:0.640068\n",
            "[429]\tvalidation_0-mlogloss:0.639713\n",
            "[430]\tvalidation_0-mlogloss:0.639542\n",
            "[431]\tvalidation_0-mlogloss:0.639414\n",
            "[432]\tvalidation_0-mlogloss:0.639286\n",
            "[433]\tvalidation_0-mlogloss:0.638892\n",
            "[434]\tvalidation_0-mlogloss:0.638719\n",
            "[435]\tvalidation_0-mlogloss:0.638487\n",
            "[436]\tvalidation_0-mlogloss:0.638153\n",
            "[437]\tvalidation_0-mlogloss:0.637847\n",
            "[438]\tvalidation_0-mlogloss:0.637757\n",
            "[439]\tvalidation_0-mlogloss:0.637727\n",
            "[440]\tvalidation_0-mlogloss:0.637368\n",
            "[441]\tvalidation_0-mlogloss:0.63715\n",
            "[442]\tvalidation_0-mlogloss:0.637\n",
            "[443]\tvalidation_0-mlogloss:0.636822\n",
            "[444]\tvalidation_0-mlogloss:0.636505\n",
            "[445]\tvalidation_0-mlogloss:0.636297\n",
            "[446]\tvalidation_0-mlogloss:0.635802\n",
            "[447]\tvalidation_0-mlogloss:0.635585\n",
            "[448]\tvalidation_0-mlogloss:0.635587\n",
            "[449]\tvalidation_0-mlogloss:0.63516\n",
            "[450]\tvalidation_0-mlogloss:0.635\n",
            "[451]\tvalidation_0-mlogloss:0.634749\n",
            "[452]\tvalidation_0-mlogloss:0.634561\n",
            "[453]\tvalidation_0-mlogloss:0.634406\n",
            "[454]\tvalidation_0-mlogloss:0.634214\n",
            "[455]\tvalidation_0-mlogloss:0.634353\n",
            "[456]\tvalidation_0-mlogloss:0.634004\n",
            "[457]\tvalidation_0-mlogloss:0.633702\n",
            "[458]\tvalidation_0-mlogloss:0.633377\n",
            "[459]\tvalidation_0-mlogloss:0.63325\n",
            "[460]\tvalidation_0-mlogloss:0.632983\n",
            "[461]\tvalidation_0-mlogloss:0.632829\n",
            "[462]\tvalidation_0-mlogloss:0.632746\n",
            "[463]\tvalidation_0-mlogloss:0.632624\n",
            "[464]\tvalidation_0-mlogloss:0.632393\n",
            "[465]\tvalidation_0-mlogloss:0.631962\n",
            "[466]\tvalidation_0-mlogloss:0.631681\n",
            "[467]\tvalidation_0-mlogloss:0.631407\n",
            "[468]\tvalidation_0-mlogloss:0.631159\n",
            "[469]\tvalidation_0-mlogloss:0.630955\n",
            "[470]\tvalidation_0-mlogloss:0.630911\n",
            "[471]\tvalidation_0-mlogloss:0.630852\n",
            "[472]\tvalidation_0-mlogloss:0.630817\n",
            "[473]\tvalidation_0-mlogloss:0.630939\n",
            "[474]\tvalidation_0-mlogloss:0.630728\n",
            "[475]\tvalidation_0-mlogloss:0.630582\n",
            "[476]\tvalidation_0-mlogloss:0.630337\n",
            "[477]\tvalidation_0-mlogloss:0.630082\n",
            "[478]\tvalidation_0-mlogloss:0.629845\n",
            "[479]\tvalidation_0-mlogloss:0.629783\n",
            "[480]\tvalidation_0-mlogloss:0.629551\n",
            "[481]\tvalidation_0-mlogloss:0.629213\n",
            "[482]\tvalidation_0-mlogloss:0.629153\n",
            "[483]\tvalidation_0-mlogloss:0.629052\n",
            "[484]\tvalidation_0-mlogloss:0.629012\n",
            "[485]\tvalidation_0-mlogloss:0.628745\n",
            "[486]\tvalidation_0-mlogloss:0.62844\n",
            "[487]\tvalidation_0-mlogloss:0.628133\n",
            "[488]\tvalidation_0-mlogloss:0.627749\n",
            "[489]\tvalidation_0-mlogloss:0.627408\n",
            "[490]\tvalidation_0-mlogloss:0.627215\n",
            "[491]\tvalidation_0-mlogloss:0.627012\n",
            "[492]\tvalidation_0-mlogloss:0.626919\n",
            "[493]\tvalidation_0-mlogloss:0.626723\n",
            "[494]\tvalidation_0-mlogloss:0.62656\n",
            "[495]\tvalidation_0-mlogloss:0.626422\n",
            "[496]\tvalidation_0-mlogloss:0.626298\n",
            "[497]\tvalidation_0-mlogloss:0.626278\n",
            "[498]\tvalidation_0-mlogloss:0.626343\n",
            "[499]\tvalidation_0-mlogloss:0.626275\n",
            "[500]\tvalidation_0-mlogloss:0.626314\n",
            "[501]\tvalidation_0-mlogloss:0.626133\n",
            "[502]\tvalidation_0-mlogloss:0.626052\n",
            "[503]\tvalidation_0-mlogloss:0.625963\n",
            "[504]\tvalidation_0-mlogloss:0.62563\n",
            "[505]\tvalidation_0-mlogloss:0.625332\n",
            "[506]\tvalidation_0-mlogloss:0.624995\n",
            "[507]\tvalidation_0-mlogloss:0.625107\n",
            "[508]\tvalidation_0-mlogloss:0.624783\n",
            "[509]\tvalidation_0-mlogloss:0.62478\n",
            "[510]\tvalidation_0-mlogloss:0.624609\n",
            "[511]\tvalidation_0-mlogloss:0.624405\n",
            "[512]\tvalidation_0-mlogloss:0.624241\n",
            "[513]\tvalidation_0-mlogloss:0.624085\n",
            "[514]\tvalidation_0-mlogloss:0.623708\n",
            "[515]\tvalidation_0-mlogloss:0.623672\n",
            "[516]\tvalidation_0-mlogloss:0.6235\n",
            "[517]\tvalidation_0-mlogloss:0.623197\n",
            "[518]\tvalidation_0-mlogloss:0.623092\n",
            "[519]\tvalidation_0-mlogloss:0.622879\n",
            "[520]\tvalidation_0-mlogloss:0.622795\n",
            "[521]\tvalidation_0-mlogloss:0.622674\n",
            "[522]\tvalidation_0-mlogloss:0.622478\n",
            "[523]\tvalidation_0-mlogloss:0.622381\n",
            "[524]\tvalidation_0-mlogloss:0.622269\n",
            "[525]\tvalidation_0-mlogloss:0.62211\n",
            "[526]\tvalidation_0-mlogloss:0.621996\n",
            "[527]\tvalidation_0-mlogloss:0.621816\n",
            "[528]\tvalidation_0-mlogloss:0.621759\n",
            "[529]\tvalidation_0-mlogloss:0.621523\n",
            "[530]\tvalidation_0-mlogloss:0.621393\n",
            "[531]\tvalidation_0-mlogloss:0.62135\n",
            "[532]\tvalidation_0-mlogloss:0.620885\n",
            "[533]\tvalidation_0-mlogloss:0.620784\n",
            "[534]\tvalidation_0-mlogloss:0.620601\n",
            "[535]\tvalidation_0-mlogloss:0.620589\n",
            "[536]\tvalidation_0-mlogloss:0.620429\n",
            "[537]\tvalidation_0-mlogloss:0.620499\n",
            "[538]\tvalidation_0-mlogloss:0.62042\n",
            "[539]\tvalidation_0-mlogloss:0.620208\n",
            "[540]\tvalidation_0-mlogloss:0.620042\n",
            "[541]\tvalidation_0-mlogloss:0.619822\n",
            "[542]\tvalidation_0-mlogloss:0.6197\n",
            "[543]\tvalidation_0-mlogloss:0.619654\n",
            "[544]\tvalidation_0-mlogloss:0.619654\n",
            "[545]\tvalidation_0-mlogloss:0.619548\n",
            "[546]\tvalidation_0-mlogloss:0.619422\n",
            "[547]\tvalidation_0-mlogloss:0.619164\n",
            "[548]\tvalidation_0-mlogloss:0.619138\n",
            "[549]\tvalidation_0-mlogloss:0.618979\n",
            "[550]\tvalidation_0-mlogloss:0.618878\n",
            "[551]\tvalidation_0-mlogloss:0.618644\n",
            "[552]\tvalidation_0-mlogloss:0.618522\n",
            "[553]\tvalidation_0-mlogloss:0.618396\n",
            "[554]\tvalidation_0-mlogloss:0.618266\n",
            "[555]\tvalidation_0-mlogloss:0.617881\n",
            "[556]\tvalidation_0-mlogloss:0.617653\n",
            "[557]\tvalidation_0-mlogloss:0.617461\n",
            "[558]\tvalidation_0-mlogloss:0.617269\n",
            "[559]\tvalidation_0-mlogloss:0.61719\n",
            "[560]\tvalidation_0-mlogloss:0.617201\n",
            "[561]\tvalidation_0-mlogloss:0.616863\n",
            "[562]\tvalidation_0-mlogloss:0.616669\n",
            "[563]\tvalidation_0-mlogloss:0.616518\n",
            "[564]\tvalidation_0-mlogloss:0.616432\n",
            "[565]\tvalidation_0-mlogloss:0.616207\n",
            "[566]\tvalidation_0-mlogloss:0.615968\n",
            "[567]\tvalidation_0-mlogloss:0.615891\n",
            "[568]\tvalidation_0-mlogloss:0.615587\n",
            "[569]\tvalidation_0-mlogloss:0.615452\n",
            "[570]\tvalidation_0-mlogloss:0.615243\n",
            "[571]\tvalidation_0-mlogloss:0.615206\n",
            "[572]\tvalidation_0-mlogloss:0.615181\n",
            "[573]\tvalidation_0-mlogloss:0.615038\n",
            "[574]\tvalidation_0-mlogloss:0.614789\n",
            "[575]\tvalidation_0-mlogloss:0.614587\n",
            "[576]\tvalidation_0-mlogloss:0.614358\n",
            "[577]\tvalidation_0-mlogloss:0.614238\n",
            "[578]\tvalidation_0-mlogloss:0.614079\n",
            "[579]\tvalidation_0-mlogloss:0.613857\n",
            "[580]\tvalidation_0-mlogloss:0.613774\n",
            "[581]\tvalidation_0-mlogloss:0.613708\n",
            "[582]\tvalidation_0-mlogloss:0.613535\n",
            "[583]\tvalidation_0-mlogloss:0.613438\n",
            "[584]\tvalidation_0-mlogloss:0.613495\n",
            "[585]\tvalidation_0-mlogloss:0.613398\n",
            "[586]\tvalidation_0-mlogloss:0.613242\n",
            "[587]\tvalidation_0-mlogloss:0.612975\n",
            "[588]\tvalidation_0-mlogloss:0.612906\n",
            "[589]\tvalidation_0-mlogloss:0.612743\n",
            "[590]\tvalidation_0-mlogloss:0.612561\n",
            "[591]\tvalidation_0-mlogloss:0.612452\n",
            "[592]\tvalidation_0-mlogloss:0.612189\n",
            "[593]\tvalidation_0-mlogloss:0.61227\n",
            "[594]\tvalidation_0-mlogloss:0.612147\n",
            "[595]\tvalidation_0-mlogloss:0.612104\n",
            "[596]\tvalidation_0-mlogloss:0.612\n",
            "[597]\tvalidation_0-mlogloss:0.611874\n",
            "[598]\tvalidation_0-mlogloss:0.611775\n",
            "[599]\tvalidation_0-mlogloss:0.611736\n",
            "[600]\tvalidation_0-mlogloss:0.61145\n",
            "[601]\tvalidation_0-mlogloss:0.611405\n",
            "[602]\tvalidation_0-mlogloss:0.611415\n",
            "[603]\tvalidation_0-mlogloss:0.611172\n",
            "[604]\tvalidation_0-mlogloss:0.611006\n",
            "[605]\tvalidation_0-mlogloss:0.610903\n",
            "[606]\tvalidation_0-mlogloss:0.610849\n",
            "[607]\tvalidation_0-mlogloss:0.610714\n",
            "[608]\tvalidation_0-mlogloss:0.610348\n",
            "[609]\tvalidation_0-mlogloss:0.610127\n",
            "[610]\tvalidation_0-mlogloss:0.610088\n",
            "[611]\tvalidation_0-mlogloss:0.609953\n",
            "[612]\tvalidation_0-mlogloss:0.610023\n",
            "[613]\tvalidation_0-mlogloss:0.6098\n",
            "[614]\tvalidation_0-mlogloss:0.609493\n",
            "[615]\tvalidation_0-mlogloss:0.609376\n",
            "[616]\tvalidation_0-mlogloss:0.609417\n",
            "[617]\tvalidation_0-mlogloss:0.609378\n",
            "[618]\tvalidation_0-mlogloss:0.609332\n",
            "[619]\tvalidation_0-mlogloss:0.609276\n",
            "[620]\tvalidation_0-mlogloss:0.60917\n",
            "[621]\tvalidation_0-mlogloss:0.609133\n",
            "[622]\tvalidation_0-mlogloss:0.608906\n",
            "[623]\tvalidation_0-mlogloss:0.608773\n",
            "[624]\tvalidation_0-mlogloss:0.608582\n",
            "[625]\tvalidation_0-mlogloss:0.608583\n",
            "[626]\tvalidation_0-mlogloss:0.608441\n",
            "[627]\tvalidation_0-mlogloss:0.608355\n",
            "[628]\tvalidation_0-mlogloss:0.608146\n",
            "[629]\tvalidation_0-mlogloss:0.608013\n",
            "[630]\tvalidation_0-mlogloss:0.608042\n",
            "[631]\tvalidation_0-mlogloss:0.607901\n",
            "[632]\tvalidation_0-mlogloss:0.608071\n",
            "[633]\tvalidation_0-mlogloss:0.607787\n",
            "[634]\tvalidation_0-mlogloss:0.607595\n",
            "[635]\tvalidation_0-mlogloss:0.607529\n",
            "[636]\tvalidation_0-mlogloss:0.607348\n",
            "[637]\tvalidation_0-mlogloss:0.607229\n",
            "[638]\tvalidation_0-mlogloss:0.60723\n",
            "[639]\tvalidation_0-mlogloss:0.607404\n",
            "[640]\tvalidation_0-mlogloss:0.607242\n",
            "[641]\tvalidation_0-mlogloss:0.607082\n",
            "[642]\tvalidation_0-mlogloss:0.607109\n",
            "[643]\tvalidation_0-mlogloss:0.606961\n",
            "[644]\tvalidation_0-mlogloss:0.607111\n",
            "[645]\tvalidation_0-mlogloss:0.607129\n",
            "[646]\tvalidation_0-mlogloss:0.606869\n",
            "[647]\tvalidation_0-mlogloss:0.606658\n",
            "[648]\tvalidation_0-mlogloss:0.606662\n",
            "[649]\tvalidation_0-mlogloss:0.606694\n",
            "[650]\tvalidation_0-mlogloss:0.606458\n",
            "[651]\tvalidation_0-mlogloss:0.606348\n",
            "[652]\tvalidation_0-mlogloss:0.60629\n",
            "[653]\tvalidation_0-mlogloss:0.606194\n",
            "[654]\tvalidation_0-mlogloss:0.605977\n",
            "[655]\tvalidation_0-mlogloss:0.605839\n",
            "[656]\tvalidation_0-mlogloss:0.60541\n",
            "[657]\tvalidation_0-mlogloss:0.605409\n",
            "[658]\tvalidation_0-mlogloss:0.605323\n",
            "[659]\tvalidation_0-mlogloss:0.605175\n",
            "[660]\tvalidation_0-mlogloss:0.605129\n",
            "[661]\tvalidation_0-mlogloss:0.604926\n",
            "[662]\tvalidation_0-mlogloss:0.604757\n",
            "[663]\tvalidation_0-mlogloss:0.60473\n",
            "[664]\tvalidation_0-mlogloss:0.60461\n",
            "[665]\tvalidation_0-mlogloss:0.604412\n",
            "[666]\tvalidation_0-mlogloss:0.60432\n",
            "[667]\tvalidation_0-mlogloss:0.60427\n",
            "[668]\tvalidation_0-mlogloss:0.604155\n",
            "[669]\tvalidation_0-mlogloss:0.604028\n",
            "[670]\tvalidation_0-mlogloss:0.6039\n",
            "[671]\tvalidation_0-mlogloss:0.603731\n",
            "[672]\tvalidation_0-mlogloss:0.603622\n",
            "[673]\tvalidation_0-mlogloss:0.603443\n",
            "[674]\tvalidation_0-mlogloss:0.603037\n",
            "[675]\tvalidation_0-mlogloss:0.60282\n",
            "[676]\tvalidation_0-mlogloss:0.602766\n",
            "[677]\tvalidation_0-mlogloss:0.602513\n",
            "[678]\tvalidation_0-mlogloss:0.60269\n",
            "[679]\tvalidation_0-mlogloss:0.602578\n",
            "[680]\tvalidation_0-mlogloss:0.602594\n",
            "[681]\tvalidation_0-mlogloss:0.602435\n",
            "[682]\tvalidation_0-mlogloss:0.60244\n",
            "[683]\tvalidation_0-mlogloss:0.6023\n",
            "[684]\tvalidation_0-mlogloss:0.602279\n",
            "[685]\tvalidation_0-mlogloss:0.602331\n",
            "[686]\tvalidation_0-mlogloss:0.602183\n",
            "[687]\tvalidation_0-mlogloss:0.602201\n",
            "[688]\tvalidation_0-mlogloss:0.601984\n",
            "[689]\tvalidation_0-mlogloss:0.602029\n",
            "[690]\tvalidation_0-mlogloss:0.601991\n",
            "[691]\tvalidation_0-mlogloss:0.601956\n",
            "[692]\tvalidation_0-mlogloss:0.601855\n",
            "[693]\tvalidation_0-mlogloss:0.601748\n",
            "[694]\tvalidation_0-mlogloss:0.601666\n",
            "[695]\tvalidation_0-mlogloss:0.601411\n",
            "[696]\tvalidation_0-mlogloss:0.601363\n",
            "[697]\tvalidation_0-mlogloss:0.601301\n",
            "[698]\tvalidation_0-mlogloss:0.601376\n",
            "[699]\tvalidation_0-mlogloss:0.600914\n",
            "[700]\tvalidation_0-mlogloss:0.600856\n",
            "[701]\tvalidation_0-mlogloss:0.600893\n",
            "[702]\tvalidation_0-mlogloss:0.600861\n",
            "[703]\tvalidation_0-mlogloss:0.600635\n",
            "[704]\tvalidation_0-mlogloss:0.600372\n",
            "[705]\tvalidation_0-mlogloss:0.600361\n",
            "[706]\tvalidation_0-mlogloss:0.600269\n",
            "[707]\tvalidation_0-mlogloss:0.600196\n",
            "[708]\tvalidation_0-mlogloss:0.60013\n",
            "[709]\tvalidation_0-mlogloss:0.599988\n",
            "[710]\tvalidation_0-mlogloss:0.599797\n",
            "[711]\tvalidation_0-mlogloss:0.599816\n",
            "[712]\tvalidation_0-mlogloss:0.599665\n",
            "[713]\tvalidation_0-mlogloss:0.599658\n",
            "[714]\tvalidation_0-mlogloss:0.599541\n",
            "[715]\tvalidation_0-mlogloss:0.599474\n",
            "[716]\tvalidation_0-mlogloss:0.599344\n",
            "[717]\tvalidation_0-mlogloss:0.599414\n",
            "[718]\tvalidation_0-mlogloss:0.599255\n",
            "[719]\tvalidation_0-mlogloss:0.599058\n",
            "[720]\tvalidation_0-mlogloss:0.59882\n",
            "[721]\tvalidation_0-mlogloss:0.598722\n",
            "[722]\tvalidation_0-mlogloss:0.598587\n",
            "[723]\tvalidation_0-mlogloss:0.598567\n",
            "[724]\tvalidation_0-mlogloss:0.598506\n",
            "[725]\tvalidation_0-mlogloss:0.598614\n",
            "[726]\tvalidation_0-mlogloss:0.598408\n",
            "[727]\tvalidation_0-mlogloss:0.598301\n",
            "[728]\tvalidation_0-mlogloss:0.598248\n",
            "[729]\tvalidation_0-mlogloss:0.598153\n",
            "[730]\tvalidation_0-mlogloss:0.598248\n",
            "[731]\tvalidation_0-mlogloss:0.598118\n",
            "[732]\tvalidation_0-mlogloss:0.597994\n",
            "[733]\tvalidation_0-mlogloss:0.598016\n",
            "[734]\tvalidation_0-mlogloss:0.597843\n",
            "[735]\tvalidation_0-mlogloss:0.597654\n",
            "[736]\tvalidation_0-mlogloss:0.597591\n",
            "[737]\tvalidation_0-mlogloss:0.597632\n",
            "[738]\tvalidation_0-mlogloss:0.597725\n",
            "[739]\tvalidation_0-mlogloss:0.597472\n",
            "[740]\tvalidation_0-mlogloss:0.597069\n",
            "[741]\tvalidation_0-mlogloss:0.596922\n",
            "[742]\tvalidation_0-mlogloss:0.596873\n",
            "[743]\tvalidation_0-mlogloss:0.596663\n",
            "[744]\tvalidation_0-mlogloss:0.596593\n",
            "[745]\tvalidation_0-mlogloss:0.596517\n",
            "[746]\tvalidation_0-mlogloss:0.596492\n",
            "[747]\tvalidation_0-mlogloss:0.596348\n",
            "[748]\tvalidation_0-mlogloss:0.59622\n",
            "[749]\tvalidation_0-mlogloss:0.596394\n",
            "[750]\tvalidation_0-mlogloss:0.596667\n",
            "[751]\tvalidation_0-mlogloss:0.596642\n",
            "[752]\tvalidation_0-mlogloss:0.596459\n",
            "[753]\tvalidation_0-mlogloss:0.59637\n",
            "[754]\tvalidation_0-mlogloss:0.596123\n",
            "[755]\tvalidation_0-mlogloss:0.595978\n",
            "[756]\tvalidation_0-mlogloss:0.595823\n",
            "[757]\tvalidation_0-mlogloss:0.595663\n",
            "[758]\tvalidation_0-mlogloss:0.595683\n",
            "[759]\tvalidation_0-mlogloss:0.595635\n",
            "[760]\tvalidation_0-mlogloss:0.595463\n",
            "[761]\tvalidation_0-mlogloss:0.595312\n",
            "[762]\tvalidation_0-mlogloss:0.595144\n",
            "[763]\tvalidation_0-mlogloss:0.595036\n",
            "[764]\tvalidation_0-mlogloss:0.594962\n",
            "[765]\tvalidation_0-mlogloss:0.594917\n",
            "[766]\tvalidation_0-mlogloss:0.594893\n",
            "[767]\tvalidation_0-mlogloss:0.594673\n",
            "[768]\tvalidation_0-mlogloss:0.594499\n",
            "[769]\tvalidation_0-mlogloss:0.5944\n",
            "[770]\tvalidation_0-mlogloss:0.59433\n",
            "[771]\tvalidation_0-mlogloss:0.594139\n",
            "[772]\tvalidation_0-mlogloss:0.594119\n",
            "[773]\tvalidation_0-mlogloss:0.594133\n",
            "[774]\tvalidation_0-mlogloss:0.594125\n",
            "[775]\tvalidation_0-mlogloss:0.594225\n",
            "[776]\tvalidation_0-mlogloss:0.594314\n",
            "[777]\tvalidation_0-mlogloss:0.594223\n",
            "[778]\tvalidation_0-mlogloss:0.594209\n",
            "[779]\tvalidation_0-mlogloss:0.593941\n",
            "[780]\tvalidation_0-mlogloss:0.593822\n",
            "[781]\tvalidation_0-mlogloss:0.593741\n",
            "[782]\tvalidation_0-mlogloss:0.59365\n",
            "[783]\tvalidation_0-mlogloss:0.593615\n",
            "[784]\tvalidation_0-mlogloss:0.59368\n",
            "[785]\tvalidation_0-mlogloss:0.593536\n",
            "[786]\tvalidation_0-mlogloss:0.593248\n",
            "[787]\tvalidation_0-mlogloss:0.593163\n",
            "[788]\tvalidation_0-mlogloss:0.593186\n",
            "[789]\tvalidation_0-mlogloss:0.593279\n",
            "[790]\tvalidation_0-mlogloss:0.593202\n",
            "[791]\tvalidation_0-mlogloss:0.59302\n",
            "[792]\tvalidation_0-mlogloss:0.592969\n",
            "[793]\tvalidation_0-mlogloss:0.59291\n",
            "[794]\tvalidation_0-mlogloss:0.592853\n",
            "[795]\tvalidation_0-mlogloss:0.592921\n",
            "[796]\tvalidation_0-mlogloss:0.593071\n",
            "[797]\tvalidation_0-mlogloss:0.592982\n",
            "[798]\tvalidation_0-mlogloss:0.59295\n",
            "[799]\tvalidation_0-mlogloss:0.593018\n",
            "[800]\tvalidation_0-mlogloss:0.59295\n",
            "[801]\tvalidation_0-mlogloss:0.592895\n",
            "[802]\tvalidation_0-mlogloss:0.592723\n",
            "[803]\tvalidation_0-mlogloss:0.592612\n",
            "[804]\tvalidation_0-mlogloss:0.592607\n",
            "[805]\tvalidation_0-mlogloss:0.592616\n",
            "[806]\tvalidation_0-mlogloss:0.592518\n",
            "[807]\tvalidation_0-mlogloss:0.592375\n",
            "[808]\tvalidation_0-mlogloss:0.592312\n",
            "[809]\tvalidation_0-mlogloss:0.592355\n",
            "[810]\tvalidation_0-mlogloss:0.592376\n",
            "[811]\tvalidation_0-mlogloss:0.59233\n",
            "[812]\tvalidation_0-mlogloss:0.592246\n",
            "[813]\tvalidation_0-mlogloss:0.592114\n",
            "[814]\tvalidation_0-mlogloss:0.592123\n",
            "[815]\tvalidation_0-mlogloss:0.592021\n",
            "[816]\tvalidation_0-mlogloss:0.591792\n",
            "[817]\tvalidation_0-mlogloss:0.591698\n",
            "[818]\tvalidation_0-mlogloss:0.591615\n",
            "[819]\tvalidation_0-mlogloss:0.591529\n",
            "[820]\tvalidation_0-mlogloss:0.591531\n",
            "[821]\tvalidation_0-mlogloss:0.591452\n",
            "[822]\tvalidation_0-mlogloss:0.59145\n",
            "[823]\tvalidation_0-mlogloss:0.591454\n",
            "[824]\tvalidation_0-mlogloss:0.591395\n",
            "[825]\tvalidation_0-mlogloss:0.591368\n",
            "[826]\tvalidation_0-mlogloss:0.591353\n",
            "[827]\tvalidation_0-mlogloss:0.591308\n",
            "[828]\tvalidation_0-mlogloss:0.59118\n",
            "[829]\tvalidation_0-mlogloss:0.591028\n",
            "[830]\tvalidation_0-mlogloss:0.591026\n",
            "[831]\tvalidation_0-mlogloss:0.590995\n",
            "[832]\tvalidation_0-mlogloss:0.591038\n",
            "[833]\tvalidation_0-mlogloss:0.591053\n",
            "[834]\tvalidation_0-mlogloss:0.590899\n",
            "[835]\tvalidation_0-mlogloss:0.590687\n",
            "[836]\tvalidation_0-mlogloss:0.590484\n",
            "[837]\tvalidation_0-mlogloss:0.590325\n",
            "[838]\tvalidation_0-mlogloss:0.590286\n",
            "[839]\tvalidation_0-mlogloss:0.590178\n",
            "[840]\tvalidation_0-mlogloss:0.590304\n",
            "[841]\tvalidation_0-mlogloss:0.59044\n",
            "[842]\tvalidation_0-mlogloss:0.590316\n",
            "[843]\tvalidation_0-mlogloss:0.590244\n",
            "[844]\tvalidation_0-mlogloss:0.590336\n",
            "[845]\tvalidation_0-mlogloss:0.590259\n",
            "[846]\tvalidation_0-mlogloss:0.590134\n",
            "[847]\tvalidation_0-mlogloss:0.589946\n",
            "[848]\tvalidation_0-mlogloss:0.589836\n",
            "[849]\tvalidation_0-mlogloss:0.589768\n",
            "[850]\tvalidation_0-mlogloss:0.589808\n",
            "[851]\tvalidation_0-mlogloss:0.589628\n",
            "[852]\tvalidation_0-mlogloss:0.589627\n",
            "[853]\tvalidation_0-mlogloss:0.589656\n",
            "[854]\tvalidation_0-mlogloss:0.589608\n",
            "[855]\tvalidation_0-mlogloss:0.589368\n",
            "[856]\tvalidation_0-mlogloss:0.589313\n",
            "[857]\tvalidation_0-mlogloss:0.589223\n",
            "[858]\tvalidation_0-mlogloss:0.589204\n",
            "[859]\tvalidation_0-mlogloss:0.589276\n",
            "[860]\tvalidation_0-mlogloss:0.589239\n",
            "[861]\tvalidation_0-mlogloss:0.589205\n",
            "[862]\tvalidation_0-mlogloss:0.58928\n",
            "[863]\tvalidation_0-mlogloss:0.58903\n",
            "[864]\tvalidation_0-mlogloss:0.588963\n",
            "[865]\tvalidation_0-mlogloss:0.58894\n",
            "[866]\tvalidation_0-mlogloss:0.588968\n",
            "[867]\tvalidation_0-mlogloss:0.588893\n",
            "[868]\tvalidation_0-mlogloss:0.588959\n",
            "[869]\tvalidation_0-mlogloss:0.588997\n",
            "[870]\tvalidation_0-mlogloss:0.588994\n",
            "[871]\tvalidation_0-mlogloss:0.588862\n",
            "[872]\tvalidation_0-mlogloss:0.588843\n",
            "[873]\tvalidation_0-mlogloss:0.588863\n",
            "[874]\tvalidation_0-mlogloss:0.588645\n",
            "[875]\tvalidation_0-mlogloss:0.588669\n",
            "[876]\tvalidation_0-mlogloss:0.588656\n",
            "[877]\tvalidation_0-mlogloss:0.5885\n",
            "[878]\tvalidation_0-mlogloss:0.588568\n",
            "[879]\tvalidation_0-mlogloss:0.588633\n",
            "[880]\tvalidation_0-mlogloss:0.588665\n",
            "[881]\tvalidation_0-mlogloss:0.58865\n",
            "[882]\tvalidation_0-mlogloss:0.588726\n",
            "[883]\tvalidation_0-mlogloss:0.588688\n",
            "[884]\tvalidation_0-mlogloss:0.588546\n",
            "[885]\tvalidation_0-mlogloss:0.588589\n",
            "[886]\tvalidation_0-mlogloss:0.588552\n",
            "[887]\tvalidation_0-mlogloss:0.588476\n",
            "[888]\tvalidation_0-mlogloss:0.588325\n",
            "[889]\tvalidation_0-mlogloss:0.588269\n",
            "[890]\tvalidation_0-mlogloss:0.58813\n",
            "[891]\tvalidation_0-mlogloss:0.587867\n",
            "[892]\tvalidation_0-mlogloss:0.587957\n",
            "[893]\tvalidation_0-mlogloss:0.587727\n",
            "[894]\tvalidation_0-mlogloss:0.587499\n",
            "[895]\tvalidation_0-mlogloss:0.587347\n",
            "[896]\tvalidation_0-mlogloss:0.587244\n",
            "[897]\tvalidation_0-mlogloss:0.587161\n",
            "[898]\tvalidation_0-mlogloss:0.586924\n",
            "[899]\tvalidation_0-mlogloss:0.586746\n",
            "[900]\tvalidation_0-mlogloss:0.586606\n",
            "[901]\tvalidation_0-mlogloss:0.586589\n",
            "[902]\tvalidation_0-mlogloss:0.586576\n",
            "[903]\tvalidation_0-mlogloss:0.586541\n",
            "[904]\tvalidation_0-mlogloss:0.58651\n",
            "[905]\tvalidation_0-mlogloss:0.586408\n",
            "[906]\tvalidation_0-mlogloss:0.586464\n",
            "[907]\tvalidation_0-mlogloss:0.586458\n",
            "[908]\tvalidation_0-mlogloss:0.586563\n",
            "[909]\tvalidation_0-mlogloss:0.58644\n",
            "[910]\tvalidation_0-mlogloss:0.586293\n",
            "[911]\tvalidation_0-mlogloss:0.586072\n",
            "[912]\tvalidation_0-mlogloss:0.586127\n",
            "[913]\tvalidation_0-mlogloss:0.586153\n",
            "[914]\tvalidation_0-mlogloss:0.585955\n",
            "[915]\tvalidation_0-mlogloss:0.58582\n",
            "[916]\tvalidation_0-mlogloss:0.585715\n",
            "[917]\tvalidation_0-mlogloss:0.585445\n",
            "[918]\tvalidation_0-mlogloss:0.58537\n",
            "[919]\tvalidation_0-mlogloss:0.585419\n",
            "[920]\tvalidation_0-mlogloss:0.585338\n",
            "[921]\tvalidation_0-mlogloss:0.585216\n",
            "[922]\tvalidation_0-mlogloss:0.58508\n",
            "[923]\tvalidation_0-mlogloss:0.585047\n",
            "[924]\tvalidation_0-mlogloss:0.584873\n",
            "[925]\tvalidation_0-mlogloss:0.584822\n",
            "[926]\tvalidation_0-mlogloss:0.584754\n",
            "[927]\tvalidation_0-mlogloss:0.584686\n",
            "[928]\tvalidation_0-mlogloss:0.584815\n",
            "[929]\tvalidation_0-mlogloss:0.584687\n",
            "[930]\tvalidation_0-mlogloss:0.584646\n",
            "[931]\tvalidation_0-mlogloss:0.584548\n",
            "[932]\tvalidation_0-mlogloss:0.584331\n",
            "[933]\tvalidation_0-mlogloss:0.584245\n",
            "[934]\tvalidation_0-mlogloss:0.584145\n",
            "[935]\tvalidation_0-mlogloss:0.584183\n",
            "[936]\tvalidation_0-mlogloss:0.584081\n",
            "[937]\tvalidation_0-mlogloss:0.583927\n",
            "[938]\tvalidation_0-mlogloss:0.583962\n",
            "[939]\tvalidation_0-mlogloss:0.583903\n",
            "[940]\tvalidation_0-mlogloss:0.583676\n",
            "[941]\tvalidation_0-mlogloss:0.58344\n",
            "[942]\tvalidation_0-mlogloss:0.583413\n",
            "[943]\tvalidation_0-mlogloss:0.583289\n",
            "[944]\tvalidation_0-mlogloss:0.583304\n",
            "[945]\tvalidation_0-mlogloss:0.583213\n",
            "[946]\tvalidation_0-mlogloss:0.583169\n",
            "[947]\tvalidation_0-mlogloss:0.583188\n",
            "[948]\tvalidation_0-mlogloss:0.583123\n",
            "[949]\tvalidation_0-mlogloss:0.583298\n",
            "[950]\tvalidation_0-mlogloss:0.583201\n",
            "[951]\tvalidation_0-mlogloss:0.583104\n",
            "[952]\tvalidation_0-mlogloss:0.583169\n",
            "[953]\tvalidation_0-mlogloss:0.583166\n",
            "[954]\tvalidation_0-mlogloss:0.583098\n",
            "[955]\tvalidation_0-mlogloss:0.583085\n",
            "[956]\tvalidation_0-mlogloss:0.583037\n",
            "[957]\tvalidation_0-mlogloss:0.582895\n",
            "[958]\tvalidation_0-mlogloss:0.582799\n",
            "[959]\tvalidation_0-mlogloss:0.582882\n",
            "[960]\tvalidation_0-mlogloss:0.582851\n",
            "[961]\tvalidation_0-mlogloss:0.582901\n",
            "[962]\tvalidation_0-mlogloss:0.583\n",
            "[963]\tvalidation_0-mlogloss:0.582892\n",
            "[964]\tvalidation_0-mlogloss:0.582839\n",
            "[965]\tvalidation_0-mlogloss:0.582735\n",
            "[966]\tvalidation_0-mlogloss:0.582543\n",
            "[967]\tvalidation_0-mlogloss:0.582564\n",
            "[968]\tvalidation_0-mlogloss:0.582368\n",
            "[969]\tvalidation_0-mlogloss:0.582117\n",
            "[970]\tvalidation_0-mlogloss:0.582201\n",
            "[971]\tvalidation_0-mlogloss:0.582046\n",
            "[972]\tvalidation_0-mlogloss:0.582004\n",
            "[973]\tvalidation_0-mlogloss:0.581944\n",
            "[974]\tvalidation_0-mlogloss:0.582066\n",
            "[975]\tvalidation_0-mlogloss:0.582015\n",
            "[976]\tvalidation_0-mlogloss:0.581997\n",
            "[977]\tvalidation_0-mlogloss:0.582118\n",
            "[978]\tvalidation_0-mlogloss:0.581983\n",
            "[979]\tvalidation_0-mlogloss:0.581927\n",
            "[980]\tvalidation_0-mlogloss:0.581957\n",
            "[981]\tvalidation_0-mlogloss:0.581843\n",
            "[982]\tvalidation_0-mlogloss:0.581666\n",
            "[983]\tvalidation_0-mlogloss:0.581661\n",
            "[984]\tvalidation_0-mlogloss:0.581806\n",
            "[985]\tvalidation_0-mlogloss:0.581854\n",
            "[986]\tvalidation_0-mlogloss:0.581736\n",
            "[987]\tvalidation_0-mlogloss:0.581704\n",
            "[988]\tvalidation_0-mlogloss:0.581612\n",
            "[989]\tvalidation_0-mlogloss:0.581644\n",
            "[990]\tvalidation_0-mlogloss:0.581619\n",
            "[991]\tvalidation_0-mlogloss:0.581555\n",
            "[992]\tvalidation_0-mlogloss:0.581491\n",
            "[993]\tvalidation_0-mlogloss:0.581509\n",
            "[994]\tvalidation_0-mlogloss:0.581507\n",
            "[995]\tvalidation_0-mlogloss:0.581317\n",
            "[996]\tvalidation_0-mlogloss:0.581121\n",
            "[997]\tvalidation_0-mlogloss:0.581069\n",
            "[998]\tvalidation_0-mlogloss:0.581335\n",
            "[999]\tvalidation_0-mlogloss:0.581229\n"
          ],
          "name": "stdout"
        },
        {
          "output_type": "execute_result",
          "data": {
            "text/plain": [
              "XGBClassifier(base_score=0.5, booster='gbtree', colsample_bylevel=1,\n",
              "              colsample_bynode=1, colsample_bytree=1, early_stopping_rounds=10,\n",
              "              eval_metric='mlogloss', gamma=0, learning_rate=0.2,\n",
              "              max_delta_step=0, max_depth=6, min_child_weight=1, missing=None,\n",
              "              n_estimators=1000, n_jobs=-1, nthread=None, num_class=3,\n",
              "              objective='multi:softprob', random_state=0, reg_alpha=0,\n",
              "              reg_lambda=1, scale_pos_weight=1, seed=None, silent=None,\n",
              "              subsample=1, verbosity=1)"
            ]
          },
          "metadata": {
            "tags": []
          },
          "execution_count": 58
        }
      ]
    },
    {
      "cell_type": "code",
      "metadata": {
        "id": "DDERkyx2g2r4",
        "colab_type": "code",
        "colab": {}
      },
      "source": [
        "y_preds = model.predict_proba(X_test)"
      ],
      "execution_count": 0,
      "outputs": []
    },
    {
      "cell_type": "code",
      "metadata": {
        "id": "4sRNVqNs23bW",
        "colab_type": "code",
        "colab": {
          "base_uri": "https://localhost:8080/",
          "height": 187
        },
        "outputId": "34d27106-9e1f-4da4-8d42-e7f2bf2e9129"
      },
      "source": [
        "y_preds[:10]"
      ],
      "execution_count": 60,
      "outputs": [
        {
          "output_type": "execute_result",
          "data": {
            "text/plain": [
              "array([[0.12332056, 0.14466359, 0.73201585],\n",
              "       [0.8331536 , 0.13159879, 0.03524762],\n",
              "       [0.39926383, 0.5744908 , 0.02624541],\n",
              "       [0.65514195, 0.2472678 , 0.09759019],\n",
              "       [0.8221283 , 0.11761667, 0.06025506],\n",
              "       [0.53745675, 0.42011887, 0.04242436],\n",
              "       [0.77236515, 0.17145441, 0.05618045],\n",
              "       [0.01549937, 0.32452118, 0.65997946],\n",
              "       [0.8111171 , 0.13894998, 0.04993295],\n",
              "       [0.7314521 , 0.11580572, 0.15274216]], dtype=float32)"
            ]
          },
          "metadata": {
            "tags": []
          },
          "execution_count": 60
        }
      ]
    },
    {
      "cell_type": "code",
      "metadata": {
        "id": "oSlr8evQ3jOX",
        "colab_type": "code",
        "colab": {
          "base_uri": "https://localhost:8080/",
          "height": 68
        },
        "outputId": "1b517cd4-fdb3-4b00-f18f-869ea2df266a"
      },
      "source": [
        "y_preds[0:10,0]"
      ],
      "execution_count": 66,
      "outputs": [
        {
          "output_type": "execute_result",
          "data": {
            "text/plain": [
              "array([0.12332056, 0.8331536 , 0.39926383, 0.65514195, 0.8221283 ,\n",
              "       0.53745675, 0.77236515, 0.01549937, 0.8111171 , 0.7314521 ],\n",
              "      dtype=float32)"
            ]
          },
          "metadata": {
            "tags": []
          },
          "execution_count": 66
        }
      ]
    },
    {
      "cell_type": "code",
      "metadata": {
        "id": "y5Yomps13JrF",
        "colab_type": "code",
        "colab": {}
      },
      "source": [
        "submission_file = pd.read_csv('drive/My Drive/Pytorch_DataSet/Spooky Authors/sample_submission.csv')"
      ],
      "execution_count": 0,
      "outputs": []
    },
    {
      "cell_type": "code",
      "metadata": {
        "id": "2Y1UyEgX3Z1p",
        "colab_type": "code",
        "colab": {
          "base_uri": "https://localhost:8080/",
          "height": 204
        },
        "outputId": "50132284-d9b0-4a6a-d3dc-4fdb02fa2183"
      },
      "source": [
        "submission_file.head()"
      ],
      "execution_count": 62,
      "outputs": [
        {
          "output_type": "execute_result",
          "data": {
            "text/html": [
              "<div>\n",
              "<style scoped>\n",
              "    .dataframe tbody tr th:only-of-type {\n",
              "        vertical-align: middle;\n",
              "    }\n",
              "\n",
              "    .dataframe tbody tr th {\n",
              "        vertical-align: top;\n",
              "    }\n",
              "\n",
              "    .dataframe thead th {\n",
              "        text-align: right;\n",
              "    }\n",
              "</style>\n",
              "<table border=\"1\" class=\"dataframe\">\n",
              "  <thead>\n",
              "    <tr style=\"text-align: right;\">\n",
              "      <th></th>\n",
              "      <th>id</th>\n",
              "      <th>EAP</th>\n",
              "      <th>HPL</th>\n",
              "      <th>MWS</th>\n",
              "    </tr>\n",
              "  </thead>\n",
              "  <tbody>\n",
              "    <tr>\n",
              "      <th>0</th>\n",
              "      <td>id02310</td>\n",
              "      <td>0.403494</td>\n",
              "      <td>0.287808</td>\n",
              "      <td>0.308698</td>\n",
              "    </tr>\n",
              "    <tr>\n",
              "      <th>1</th>\n",
              "      <td>id24541</td>\n",
              "      <td>0.403494</td>\n",
              "      <td>0.287808</td>\n",
              "      <td>0.308698</td>\n",
              "    </tr>\n",
              "    <tr>\n",
              "      <th>2</th>\n",
              "      <td>id00134</td>\n",
              "      <td>0.403494</td>\n",
              "      <td>0.287808</td>\n",
              "      <td>0.308698</td>\n",
              "    </tr>\n",
              "    <tr>\n",
              "      <th>3</th>\n",
              "      <td>id27757</td>\n",
              "      <td>0.403494</td>\n",
              "      <td>0.287808</td>\n",
              "      <td>0.308698</td>\n",
              "    </tr>\n",
              "    <tr>\n",
              "      <th>4</th>\n",
              "      <td>id04081</td>\n",
              "      <td>0.403494</td>\n",
              "      <td>0.287808</td>\n",
              "      <td>0.308698</td>\n",
              "    </tr>\n",
              "  </tbody>\n",
              "</table>\n",
              "</div>"
            ],
            "text/plain": [
              "        id       EAP       HPL       MWS\n",
              "0  id02310  0.403494  0.287808  0.308698\n",
              "1  id24541  0.403494  0.287808  0.308698\n",
              "2  id00134  0.403494  0.287808  0.308698\n",
              "3  id27757  0.403494  0.287808  0.308698\n",
              "4  id04081  0.403494  0.287808  0.308698"
            ]
          },
          "metadata": {
            "tags": []
          },
          "execution_count": 62
        }
      ]
    },
    {
      "cell_type": "code",
      "metadata": {
        "id": "qL6qdp3n3c64",
        "colab_type": "code",
        "colab": {}
      },
      "source": [
        "submission_file['EAP'] = y_preds[:,0]\n",
        "submission_file['HPL'] = y_preds[:,1]\n",
        "submission_file['MWS'] = y_preds[:,2]"
      ],
      "execution_count": 0,
      "outputs": []
    },
    {
      "cell_type": "code",
      "metadata": {
        "id": "4UJ9BQBd4PHH",
        "colab_type": "code",
        "colab": {
          "base_uri": "https://localhost:8080/",
          "height": 204
        },
        "outputId": "2e8554c0-7bab-40a8-de08-247237506c37"
      },
      "source": [
        "submission_file.head()"
      ],
      "execution_count": 68,
      "outputs": [
        {
          "output_type": "execute_result",
          "data": {
            "text/html": [
              "<div>\n",
              "<style scoped>\n",
              "    .dataframe tbody tr th:only-of-type {\n",
              "        vertical-align: middle;\n",
              "    }\n",
              "\n",
              "    .dataframe tbody tr th {\n",
              "        vertical-align: top;\n",
              "    }\n",
              "\n",
              "    .dataframe thead th {\n",
              "        text-align: right;\n",
              "    }\n",
              "</style>\n",
              "<table border=\"1\" class=\"dataframe\">\n",
              "  <thead>\n",
              "    <tr style=\"text-align: right;\">\n",
              "      <th></th>\n",
              "      <th>id</th>\n",
              "      <th>EAP</th>\n",
              "      <th>HPL</th>\n",
              "      <th>MWS</th>\n",
              "    </tr>\n",
              "  </thead>\n",
              "  <tbody>\n",
              "    <tr>\n",
              "      <th>0</th>\n",
              "      <td>id02310</td>\n",
              "      <td>0.123321</td>\n",
              "      <td>0.144664</td>\n",
              "      <td>0.732016</td>\n",
              "    </tr>\n",
              "    <tr>\n",
              "      <th>1</th>\n",
              "      <td>id24541</td>\n",
              "      <td>0.833154</td>\n",
              "      <td>0.131599</td>\n",
              "      <td>0.035248</td>\n",
              "    </tr>\n",
              "    <tr>\n",
              "      <th>2</th>\n",
              "      <td>id00134</td>\n",
              "      <td>0.399264</td>\n",
              "      <td>0.574491</td>\n",
              "      <td>0.026245</td>\n",
              "    </tr>\n",
              "    <tr>\n",
              "      <th>3</th>\n",
              "      <td>id27757</td>\n",
              "      <td>0.655142</td>\n",
              "      <td>0.247268</td>\n",
              "      <td>0.097590</td>\n",
              "    </tr>\n",
              "    <tr>\n",
              "      <th>4</th>\n",
              "      <td>id04081</td>\n",
              "      <td>0.822128</td>\n",
              "      <td>0.117617</td>\n",
              "      <td>0.060255</td>\n",
              "    </tr>\n",
              "  </tbody>\n",
              "</table>\n",
              "</div>"
            ],
            "text/plain": [
              "        id       EAP       HPL       MWS\n",
              "0  id02310  0.123321  0.144664  0.732016\n",
              "1  id24541  0.833154  0.131599  0.035248\n",
              "2  id00134  0.399264  0.574491  0.026245\n",
              "3  id27757  0.655142  0.247268  0.097590\n",
              "4  id04081  0.822128  0.117617  0.060255"
            ]
          },
          "metadata": {
            "tags": []
          },
          "execution_count": 68
        }
      ]
    },
    {
      "cell_type": "code",
      "metadata": {
        "id": "p3kEhtiO4Tsx",
        "colab_type": "code",
        "colab": {}
      },
      "source": [
        "submission_file.to_csv('spooky_authors.csv',index=False)"
      ],
      "execution_count": 0,
      "outputs": []
    },
    {
      "cell_type": "code",
      "metadata": {
        "id": "BOsnNb8u4m1O",
        "colab_type": "code",
        "colab": {}
      },
      "source": [
        ""
      ],
      "execution_count": 0,
      "outputs": []
    }
  ]
}